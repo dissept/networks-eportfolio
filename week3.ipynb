{
 "cells": [
  {
   "cell_type": "markdown",
   "metadata": {},
   "source": [
    "# Python Workshop on the Application Layer in Networks\n",
    "\n",
    "This workshop is designed for you to learn about the application layer of the TCP/IP model and how to implement basic network applications using Python.\n",
    "\n",
    "By the end of this workshop, you will have a solid understanding of the application layer and will have built a few simple network applications.\n",
    "\n",
    "In this workshop we will be using the Python socket library, which provides a low-level interface for network communication using sockets. Sockets are endpoints for sending and receiving data across a network.\n",
    "\n",
    "## Core Concepts\n",
    "- **Sockets:** Communication endpoints with an IP address and a port number.\n",
    "- **IP Address:** A numerical identifier for a device on a network.\n",
    "- **Port Number:** A number that identifies a specific application or process on a device.\n",
    "- **Protocols:** Rules that govern data transmission. Common protocols include TCP (reliable, connection-oriented) and UDP (unreliable, connectionless).\n",
    "\n",
    "## Key Functions\n",
    "- `socket.socket()` – Creates a new socket object.\n",
    "- `socket.bind()` – Binds a socket to a specific IP address and port (typically on the server side).\n",
    "- `socket.listen()` – Puts a server socket into listening mode.\n",
    "- `socket.accept()` – Accepts a connection from a client.\n",
    "- `socket.connect()` – Establishes a connection to a remote server (client side).\n",
    "- `socket.send()` – Sends data through a socket.\n",
    "- `socket.recv()` – Receives data from a socket.\n",
    "- `socket.close()` – Closes a socket connection.\n",
    "\n",
    "## Prerequisites\n",
    "- Basic understanding of Python programming.\n",
    "- Familiarity with basic networking concepts (e.g., IP addresses, ports).\n",
    "\n",
    "## Workshop Outline\n",
    "1. Introduction to the Application Layer\n",
    "2. Building a Simple HTTP Client\n",
    "3. Building a Simple HTTP Server\n",
    "4. Building a Simple Chat Application\n",
    "5. Challenges and Exercises\n",
    "\n",
    "Feel free to discuss your work with peers or with the teaching staff. For further reading, refer to the following resources:\n",
    "- [Python Socket Library Documentation](https://docs.python.org/3/library/socket.html)\n",
    "- [Socket Programming in Python (Guide)](https://realpython.com/python-sockets/)\n",
    "- [A Complete Guide to Socket Programming in Python](https://www.datacamp.com/tutorial/a-complete-guide-to-socket-programming-in-python)"
   ]
  },
  {
   "cell_type": "markdown",
   "metadata": {},
   "source": [
    "## 1. Introduction to the Application Layer\n",
    "\n",
    "The application layer is the top layer of the OSI model and is responsible for providing network services directly to end-user applications. Common protocols at this layer include HTTP, FTP, SMTP, and DNS.\n",
    "\n",
    "**Key Concepts:**\n",
    "- **Protocols:** Rules that define how data is transmitted and received.\n",
    "- **Client-Server Model:** A distributed application structure where servers provide resources and clients request them.\n",
    "- **Sockets:** Endpoints for network communication."
   ]
  },
  {
   "cell_type": "markdown",
   "metadata": {},
   "source": [
    "## 2. Basic Python Socket Examples\n",
    "\n",
    "### a. Finding Website IP Address\n",
    "\n",
    "This example uses `socket.gethostbyname()` to translate a website's host name to its IPv4 address format. The function returns the IP address as a string.\n",
    "\n",
    "**Code Example:**"
   ]
  },
  {
   "cell_type": "code",
   "execution_count": null,
   "metadata": {},
   "outputs": [
    {
     "name": "stdout",
     "output_type": "stream",
     "text": [
      "The IP address of www.amazon.com is 2.22.69.153\n"
     ]
    }
   ],
   "source": [
    "import socket\n",
    "\n",
    "def get_ip_address(website_url):\n",
    "    try:\n",
    "        ip_address = socket.gethostbyname(website_url)\n",
    "        print(f\"The IP address of {website_url} is {ip_address}\")\n",
    "    except socket.gaierror:\n",
    "        print(f\"Unable to get the IP address for {website_url}\")\n",
    "\n",
    "# Example usage\n",
    "website = input(\"Enter the website URL (without 'https://'): \")\n",
    "get_ip_address(website)"
   ]
  },
  {
   "cell_type": "code",
   "execution_count": null,
   "metadata": {},
   "outputs": [],
   "source": [
    "The IP address of jobtoday.com is 18.203.241.239\n",
    "The IP address of amazon.com is 205.251.242.103\n",
    "The IP address of github.com is 20.26.156.21"
   ]
  },
  {
   "cell_type": "markdown",
   "metadata": {},
   "source": [
    "**Exercise 1:** Try 3 websites and report their IP addresses."
   ]
  },
  {
   "cell_type": "markdown",
   "metadata": {},
   "source": [
    "### b. Trace Route\n",
    "\n",
    "`tracert` (on Windows) or `traceroute` (on Unix-like systems) is a command-line utility used to trace the network route that packets take to reach a specific destination. It works by sending packets with increasing Time To Live (TTL) values until the destination is reached.\n",
    "\n",
    "**Code Example:**"
   ]
  },
  {
   "cell_type": "code",
   "execution_count": 18,
   "metadata": {},
   "outputs": [
    {
     "name": "stdout",
     "output_type": "stream",
     "text": [
      "tracert command not found. Make sure it's available.\n",
      "tracert command not found. Make sure it's available.\n",
      "tracert command not found. Make sure it's available.\n"
     ]
    }
   ],
   "source": [
    "import subprocess\n",
    "def tracert(domain):\n",
    "    try:\n",
    "        result = subprocess.run([\"tracert\", domain], capture_output=True, text=True)\n",
    "        print(result.stdout)\n",
    "    except FileNotFoundError:\n",
    "        print(\"tracert command not found. Make sure it's available.\")\n",
    "    except Exception as e: # Catching general exceptions for now\n",
    "        print(f\"An error occurred: {e}\")\n",
    "\n",
    "\n",
    "domain_IP = [\"www.jobtoday.com\", \"www.amazon.com\",\"www.github.com\"]\n",
    "for domain in domain_IP:\n",
    "    tracert(domain)"
   ]
  },
  {
   "cell_type": "markdown",
   "metadata": {},
   "source": [
    "**Exercises:**\n",
    "- **Exercise 2:** Experiment with 3 different domain names and IP addresses to see the trace route information.\n",
    "- **Exercise 3:** Analyse the output of tracert.\n",
    "- **Exercise 4:** Identify potential bottlenecks or slow points in the network path for each domain.\n",
    "- **Exercise 5:** Experiment trace routes to the same domain from different locations (if possible)."
   ]
  },
  {
   "cell_type": "markdown",
   "metadata": {},
   "source": [
    "## 3. Building a Simple HTTP Client\n",
    "\n",
    "In this section, we simulate a very basic web browser by creating an HTTP client using the socket library. The client connects to a web server and fetches the homepage content.\n",
    "\n",
    "**Code Example:**"
   ]
  },
  {
   "cell_type": "code",
   "execution_count": 19,
   "metadata": {},
   "outputs": [
    {
     "name": "stdout",
     "output_type": "stream",
     "text": [
      "HTTP/1.1 200 OK\n",
      "Content-Type: text/html\n",
      "ETag: \"84238dfc8092e5d9c0dac8ef93371a07:1736799080.121134\"\n",
      "Last-Modified: Mon, 13 Jan 2025 20:11:20 GMT\n",
      "Cache-Control: max-age=2433\n",
      "Date: Wed, 19 Mar 2025 00:08:49 GMT\n",
      "Content-Length: 1256\n",
      "Connection: keep-alive\n",
      "\n",
      "<!doctype html>\n",
      "<html>\n",
      "<head>\n",
      "    <title>Example Domain</title>\n",
      "\n",
      "    <meta charset=\"utf-8\" />\n",
      "    <meta http-equiv=\"Content-type\" content=\"text/html; charset=utf-8\" />\n",
      "    <meta name=\"viewport\" content=\"width=device-width, initial-scale=1\" />\n",
      "    <style type=\"text/css\">\n",
      "    body {\n",
      "        background-color: #f0f0f2;\n",
      "        margin: 0;\n",
      "        padding: 0;\n",
      "        font-family: -apple-system, system-ui, BlinkMacSystemFont, \"Segoe UI\", \"Open Sans\", \"Helvetica Neue\", Helvetica, Arial, sans-serif;\n",
      "        \n",
      "    }\n",
      "    div {\n",
      "        width: 600px;\n",
      "        margin: 5em auto;\n",
      "        padding: 2em;\n",
      "        background-color: #fdfdff;\n",
      "        border-radius: 0.5em;\n",
      "        box-shadow: 2px 3px 7px 2px rgba(0,0,0,0.02);\n",
      "    }\n",
      "    a:link, a:visited {\n",
      "        color: #38488f;\n",
      "        text-decoration: none;\n",
      "    }\n",
      "    @media (max-width: 700px) {\n",
      "        div {\n",
      "            margin: 0 auto;\n",
      "            width: auto;\n",
      "        }\n",
      "    }\n",
      "    </style>    \n",
      "</head>\n",
      "\n",
      "<body>\n",
      "<div>\n",
      "    <h1>Example Domain</h1>\n",
      "    <p>This domain is for use in illustrative examples in documents. You may use this\n",
      "    domain in literature without prior coordination or asking for permission.</p>\n",
      "    <p><a href=\"https://www.iana.org/domains/example\">More information...</a></p>\n",
      "</div>\n",
      "</body>\n",
      "</html>\n",
      "\n"
     ]
    }
   ],
   "source": [
    "import socket\n",
    "\n",
    "# Create a socket object\n",
    "client_socket = socket.socket(socket.AF_INET, socket.SOCK_STREAM)\n",
    "\n",
    "# Define the server address and port (HTTP port 80)\n",
    "server_address = ('www.example.com', 80)\n",
    "\n",
    "# Connect to the server\n",
    "client_socket.connect(server_address)\n",
    "\n",
    "# Send an HTTP GET request\n",
    "request = \"GET / HTTP/1.1\\r\\nHost: www.example.com\\r\\n\\r\\n\"\n",
    "client_socket.send(request.encode())\n",
    "\n",
    "# Receive the response\n",
    "response = client_socket.recv(4096)\n",
    "print(response.decode())\n",
    "\n",
    "# Close the socket\n",
    "client_socket.close()"
   ]
  },
  {
   "cell_type": "markdown",
   "metadata": {},
   "source": [
    "## 4. Python Requests Library\n",
    "\n",
    "While using the socket module gives low-level control, the `requests` library provides an easier way to make HTTP requests. It automatically handles headers, cookies, and errors.\n",
    "\n",
    "To install the `requests` library, use:\n",
    "```\n",
    "!pip install requests\n",
    "```\n",
    "\n",
    "**Code Example using requests:**"
   ]
  },
  {
   "cell_type": "code",
   "execution_count": 27,
   "metadata": {},
   "outputs": [
    {
     "name": "stdout",
     "output_type": "stream",
     "text": [
      "<!--\n",
      "        To discuss automated access to Amazon data please contact api-services-support@amazon.com.\n",
      "        For information about migrating to our APIs refer to our Marketplace APIs at https://developer.amazonservices.com/ref=rm_5_sv, or our Product Advertising API at https://affiliate-program.amazon.com/gp/advertising/api/detail/main.html/ref=rm_5_ac for advertising use cases.\n",
      "-->\n",
      "<!doctype html>\n",
      "<html>\n",
      "<head>\n",
      "  <meta charset=\"utf-8\">\n",
      "  <meta http-equiv=\"x-ua-compatible\" content=\"ie=edge\">\n",
      "  <meta name=\"viewport\" content=\"width=device-width, initial-scale=1, shrink-to-fit=no\">\n",
      "  <title>Sorry! Something went wrong!</title>\n",
      "  <style>\n",
      "  html, body {\n",
      "    padding: 0;\n",
      "    margin: 0\n",
      "  }\n",
      "\n",
      "  img {\n",
      "    border: 0\n",
      "  }\n",
      "\n",
      "  #a {\n",
      "    background: #232f3e;\n",
      "    padding: 11px 11px 11px 192px\n",
      "  }\n",
      "\n",
      "  #b {\n",
      "    position: absolute;\n",
      "    left: 22px;\n",
      "    top: 12px\n",
      "  }\n",
      "\n",
      "  #c {\n",
      "    position: relative;\n",
      "    max-width: 800px;\n",
      "    padding: 0 40px 0 0\n",
      "  }\n",
      "\n",
      "  #e, #f {\n",
      "    height: 35px;\n",
      "    border: 0;\n",
      "    font-size: 1em\n",
      "  }\n",
      "\n",
      "  #e {\n",
      "    width: 100%;\n",
      "    margin: 0;\n",
      "    padding: 0 10px;\n",
      "    border-radius: 4px 0 0 4px\n",
      "  }\n",
      "\n",
      "  #f {\n",
      "    cursor: pointer;\n",
      "    background: #febd69;\n",
      "    font-weight: bold;\n",
      "    border-radius: 0 4px 4px 0;\n",
      "    -webkit-appearance: none;\n",
      "    position: absolute;\n",
      "    top: 0;\n",
      "    right: 0;\n",
      "    padding: 0 12px\n",
      "  }\n",
      "\n",
      "  @media (max-width: 500px) {\n",
      "    #a {\n",
      "      padding: 55px 10px 10px\n",
      "    }\n",
      "\n",
      "    #b {\n",
      "      left: 6px\n",
      "    }\n",
      "  }\n",
      "\n",
      "  #g {\n",
      "    text-align: center;\n",
      "    margin: 30px 0\n",
      "  }\n",
      "\n",
      "  #g img {\n",
      "    max-width: 90%\n",
      "  }\n",
      "\n",
      "  #d {\n",
      "    display: none\n",
      "  }\n",
      "\n",
      "  #d[src] {\n",
      "    display: inline\n",
      "  }\n",
      "  </style>\n",
      "</head>\n",
      "<body>\n",
      "    <a href=\"/ref=cs_503_logo\"><img id=\"b\" src=\"https://images-na.ssl-images-amazon.com/images/G/01/error/logo._TTD_.png\" alt=\"Amazon.com\"></a>\n",
      "    <form id=\"a\" accept-charset=\"utf-8\" action=\"/s\" method=\"GET\" role=\"search\">\n",
      "        <div id=\"c\">\n",
      "            <input id=\"e\" name=\"field-keywords\" placeholder=\"Search\">\n",
      "            <input name=\"ref\" type=\"hidden\" value=\"cs_503_search\">\n",
      "            <input id=\"f\" type=\"submit\" value=\"Go\">\n",
      "        </div>\n",
      "    </form>\n",
      "<div id=\"g\">\n",
      "  <div><a href=\"/ref=cs_503_link\"><img src=\"https://images-na.ssl-images-amazon.com/images/G/01/error/500_503.png\"\n",
      "                                        alt=\"Sorry! Something went wrong on our end. Please go back and try again or go to Amazon's home page.\"></a>\n",
      "  </div>\n",
      "  <a href=\"/dogsofamazon/ref=cs_503_d\" target=\"_blank\" rel=\"noopener noreferrer\"><img id=\"d\" alt=\"Dogs of Amazon\"></a>\n",
      "  <script>document.getElementById(\"d\").src = \"https://images-na.ssl-images-amazon.com/images/G/01/error/\" + (Math.floor(Math.random() * 43) + 1) + \"._TTD_.jpg\";</script>\n",
      "</div>\n",
      "</body>\n",
      "</html>\n",
      "\n"
     ]
    }
   ],
   "source": [
    "import requests\n",
    "\n",
    "response = requests.get('http://www.amazon.com')\n",
    "print(response.text)"
   ]
  },
  {
   "cell_type": "markdown",
   "metadata": {},
   "source": [
    "## 5. HTTP Request Types\n",
    "\n",
    "HTTP supports several request types. The most common include:\n",
    "\n",
    "- **GET:** Fetches data from a server.\n",
    "- **POST:** Sends data to a server to create or update a resource.\n",
    "- **PUT:** Updates an existing resource on the server.\n",
    "- **DELETE:** Removes a resource from the server.\n",
    "\n",
    "Below are examples of POST, PUT, and DELETE requests using the `requests` library."
   ]
  },
  {
   "cell_type": "code",
   "execution_count": 28,
   "metadata": {},
   "outputs": [
    {
     "name": "stdout",
     "output_type": "stream",
     "text": [
      "Status Code: 201\n",
      "Response Body: {'title': 'Sample Post', 'body': 'This is an example post body.', 'userId': 1, 'id': 101}\n"
     ]
    }
   ],
   "source": [
    "# POST Request: Sending data to create a new resource\n",
    "url = 'https://jsonplaceholder.typicode.com/posts'\n",
    "data = {\n",
    "    \"title\": \"Sample Post\",\n",
    "    \"body\": \"This is an example post body.\",\n",
    "    \"userId\": 1\n",
    "}\n",
    "response = requests.post(url, json=data)\n",
    "print(f\"Status Code: {response.status_code}\")\n",
    "print(\"Response Body:\", response.json())"
   ]
  },
  {
   "cell_type": "code",
   "execution_count": 30,
   "metadata": {},
   "outputs": [
    {
     "name": "stdout",
     "output_type": "stream",
     "text": [
      "Status Code: 200\n",
      "Updated Resource: {'id': 1, 'title': 'Updated Title', 'body': 'This post content has been updated.', 'userId': 1}\n"
     ]
    }
   ],
   "source": [
    "# PUT Request: Updating an existing resource\n",
    "url = 'https://jsonplaceholder.typicode.com/posts/1'\n",
    "updated_data = {\n",
    "    \"id\": 1,\n",
    "    \"title\": \"Updated Title\",\n",
    "    \"body\": \"This post content has been updated.\",\n",
    "    \"userId\": 1\n",
    "}\n",
    "response = requests.put(url, json=updated_data)\n",
    "print(f\"Status Code: {response.status_code}\")\n",
    "print(\"Updated Resource:\", response.json())"
   ]
  },
  {
   "cell_type": "code",
   "execution_count": 29,
   "metadata": {},
   "outputs": [
    {
     "name": "stdout",
     "output_type": "stream",
     "text": [
      "Status Code: 200\n",
      "Resource successfully deleted.\n"
     ]
    }
   ],
   "source": [
    "# DELETE Request: Removing a resource\n",
    "url = 'https://jsonplaceholder.typicode.com/posts/1'\n",
    "response = requests.delete(url)\n",
    "print(f\"Status Code: {response.status_code}\")\n",
    "if response.status_code == 200:\n",
    "    print(\"Resource successfully deleted.\")\n",
    "else:\n",
    "    print(\"Failed to delete the resource.\")"
   ]
  }
 ],
 "metadata": {
  "kernelspec": {
   "display_name": "Python 3",
   "language": "python",
   "name": "python3"
  },
  "language_info": {
   "codemirror_mode": {
    "name": "ipython",
    "version": 3
   },
   "file_extension": ".py",
   "mimetype": "text/x-python",
   "name": "python",
   "nbconvert_exporter": "python",
   "pygments_lexer": "ipython3",
   "version": "3.13.2"
  }
 },
 "nbformat": 4,
 "nbformat_minor": 2
}

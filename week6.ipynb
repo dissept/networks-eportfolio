{
 "cells": [
  {
   "cell_type": "markdown",
   "metadata": {},
   "source": [
    "## Exercise 1: Extended IP Analysis\n",
    "\n",
    "The following code uses the Python `ipaddress` module to analyze an IP address provided in CIDR notation. It calculates:\n",
    "\n",
    "- The broadcast address\n",
    "- The first and last usable host addresses (for networks with at least 2 hosts)\n",
    "- The number of usable hosts\n",
    "\n",
    "You can experiment by changing the input CIDR (e.g., `/24`, `/30`) to see how the network changes."
   ]
  },
  {
   "cell_type": "code",
   "execution_count": 6,
   "metadata": {},
   "outputs": [
    {
     "name": "stdout",
     "output_type": "stream",
     "text": [
      "--- Analyzing 192.168.1.1/24 ---\n",
      "Address: 192.168.1.1\n",
      "Network: 192.168.1.0/24\n",
      "Netmask: 255.255.255.0\n",
      "Broadcast Address: 192.168.1.255\n",
      "First usable host: 192.168.1.1\n",
      "Last usable host: 192.168.1.254\n",
      "Number of usable hosts: 254\n",
      "Is private: True\n",
      "Is global: False\n"
     ]
    }
   ],
   "source": [
    "import ipaddress\n",
    "\n",
    "def analyse_ip(ip_str):\n",
    "    # Create an IP interface object from a CIDR notation string (e.g., '192.168.1.1/24')\n",
    "    ip_intf = ipaddress.ip_interface(ip_str)\n",
    "    net = ip_intf.network\n",
    "    ip_addr = ip_intf.ip\n",
    "    \n",
    "    print(f\"Address: {ip_addr}\")\n",
    "    print(f\"Network: {net}\")\n",
    "    print(f\"Netmask: {ip_intf.netmask}\")\n",
    "    \n",
    "    # Broadcast address\n",
    "    print(f\"Broadcast Address: {net.broadcast_address}\")\n",
    "    \n",
    "    # Calculate usable hosts\n",
    "    hosts = list(net.hosts())\n",
    "    if len(hosts) >= 2:\n",
    "        first_host = hosts[0]\n",
    "        last_host = hosts[-1]\n",
    "    else:\n",
    "        first_host = last_host = None\n",
    "    \n",
    "    print(f\"First usable host: {first_host}\")\n",
    "    print(f\"Last usable host: {last_host}\")\n",
    "    \n",
    "    # Number of usable hosts (for IPv4, subtract network and broadcast if applicable)\n",
    "    num_usable = net.num_addresses - 2 if net.num_addresses > 2 else net.num_addresses\n",
    "    print(f\"Number of usable hosts: {num_usable}\")\n",
    "    \n",
    "    print(f\"Is private: {ip_addr.is_private}\")\n",
    "    print(f\"Is global: {ip_addr.is_global}\")\n",
    "\n",
    "# Example usage\n",
    "print(\"--- Analyzing 192.168.1.1/24 ---\")\n",
    "analyse_ip('192.168.1.1/24')"
   ]
  },
  {
   "cell_type": "markdown",
   "metadata": {},
   "source": [
    "## Exercise 2: Analyzing Your Device's IP Address\n",
    "\n",
    "This cell obtains your computer's hostname and IP address, then calls the `analyse_ip` function to analyze it. (Note that if your computer has multiple interfaces, this might not capture all details.)"
   ]
  },
  {
   "cell_type": "code",
   "execution_count": 7,
   "metadata": {},
   "outputs": [
    {
     "name": "stdout",
     "output_type": "stream",
     "text": [
      "Your Computer Name: Anas-MBP.communityfibre.co.uk\n",
      "Your Computer IP Address: 192.168.1.215\n",
      "Network: 192.168.1.0/24\n",
      "Netmask: 255.255.255.0\n",
      "Broadcast Address: 192.168.1.255\n",
      "First Usable Host: 192.168.1.1\n",
      "Last Usable Host: 192.168.1.254\n",
      "Number of Usable Hosts: 254\n",
      "Private IP: True\n",
      "Global IP: False\n"
     ]
    }
   ],
   "source": [
    "import socket\n",
    "import ipaddress\n",
    "\n",
    "# Get your computer's IP address\n",
    "hostname = socket.gethostname()\n",
    "IPAddr = socket.gethostbyname(hostname)\n",
    "\n",
    "print(f\"Your Computer Name: {hostname}\")\n",
    "print(f\"Your Computer IP Address: {IPAddr}\")\n",
    "\n",
    "# Analyze the IP\n",
    "ip = ipaddress.ip_interface(IPAddr + \"/24\")\n",
    "\n",
    "print(f\"Network: {ip.network}\")\n",
    "print(f\"Netmask: {ip.netmask}\")\n",
    "print(f\"Broadcast Address: {ip.network.broadcast_address}\")\n",
    "print(f\"First Usable Host: {list(ip.network.hosts())[0]}\")\n",
    "print(f\"Last Usable Host: {list(ip.network.hosts())[-1]}\")\n",
    "print(f\"Number of Usable Hosts: {ip.network.num_addresses - 2}\")\n",
    "print(f\"Private IP: {ip.ip.is_private}\")\n",
    "print(f\"Global IP: {ip.ip.is_global}\")\n"
   ]
  },
  {
   "cell_type": "markdown",
   "metadata": {},
   "source": [
    "## Exercise 3: Analyzing a University Website's IP Address\n",
    "\n",
    "Enter the hostname of your university website. The script retrieves its IP address using `socket.gethostbyname()` and analyzes it using the `analyse_ip` function."
   ]
  },
  {
   "cell_type": "code",
   "execution_count": 8,
   "metadata": {},
   "outputs": [
    {
     "name": "stdout",
     "output_type": "stream",
     "text": [
      "IP address of www.gold.ac.uk is 159.100.136.66\n",
      "Address: 159.100.136.66\n",
      "Network: 159.100.136.0/24\n",
      "Netmask: 255.255.255.0\n",
      "Broadcast Address: 159.100.136.255\n",
      "First usable host: 159.100.136.1\n",
      "Last usable host: 159.100.136.254\n",
      "Number of usable hosts: 254\n",
      "Is private: False\n",
      "Is global: True\n"
     ]
    }
   ],
   "source": [
    "university_host = input(\"Enter the university website hostname (e.g., www.exampleuni.edu): \")\n",
    "uni_ip = socket.gethostbyname(university_host)\n",
    "print(f\"IP address of {university_host} is {uni_ip}\")\n",
    "\n",
    "# Analyze the university IP address with a sample CIDR (/24). Adjust as needed.\n",
    "analyse_ip(uni_ip + '/24')"
   ]
  },
  {
   "cell_type": "markdown",
   "metadata": {},
   "source": [
    "## Exercise 4 (Challenge): Subnetting Plan for a Company\n",
    "\n",
    "A company with the network address `172.16.0.0/16` has four departments with the following host requirements:\n",
    "\n",
    "- Engineering: 30 hosts\n",
    "- Marketing: 15 hosts\n",
    "- Finance: 10 hosts\n",
    "- HR: 5 hosts\n",
    "\n",
    "For each department, you need to determine a subnet that provides enough usable host addresses. (Remember: For an IPv4 subnet, the number of usable hosts is `2^(32 - prefix) - 2`.)\n",
    "\n",
    "Below is a simple calculation to help you decide on the minimum prefix length needed for each department."
   ]
  },
  {
   "cell_type": "code",
   "execution_count": 9,
   "metadata": {},
   "outputs": [
    {
     "name": "stdout",
     "output_type": "stream",
     "text": [
      "Subnetting Plan for network 172.16.0.0/16\n",
      "Engineering: Requires 30 hosts → Minimum Prefix /27 with 30 usable hosts\n",
      "Marketing: Requires 15 hosts → Minimum Prefix /27 with 30 usable hosts\n",
      "Finance: Requires 10 hosts → Minimum Prefix /28 with 14 usable hosts\n",
      "HR: Requires 5 hosts → Minimum Prefix /29 with 6 usable hosts\n"
     ]
    }
   ],
   "source": [
    "import math\n",
    "\n",
    "def min_prefix_for_hosts(required_hosts):\n",
    "    # Calculate the number of bits needed for hosts: 2^(32 - prefix) - 2 >= required_hosts\n",
    "    # Solve for prefix: prefix <= 32 - ceil(log2(required_hosts + 2))\n",
    "    bits_needed = math.ceil(math.log2(required_hosts + 2))\n",
    "    prefix = 32 - bits_needed\n",
    "    return prefix\n",
    "\n",
    "departments = {\n",
    "    \"Engineering\": 30,\n",
    "    \"Marketing\": 15,\n",
    "    \"Finance\": 10,\n",
    "    \"HR\": 5\n",
    "}\n",
    "\n",
    "print(\"Subnetting Plan for network 172.16.0.0/16\")\n",
    "for dept, hosts in departments.items():\n",
    "    prefix = min_prefix_for_hosts(hosts)\n",
    "    usable = (2 ** (32 - prefix)) - 2\n",
    "    print(f\"{dept}: Requires {hosts} hosts → Minimum Prefix /{prefix} with {usable} usable hosts\")\n",
    "\n",
    "# Note: This gives you a starting point. You may choose to allocate more addresses\n",
    "# for future growth or for organizational reasons."
   ]
  },
  {
   "cell_type": "markdown",
   "metadata": {},
   "source": [
    "## 5. DHCP Simulation\n",
    "\n",
    "The following code simulates the basic DHCP DORA process:\n",
    "\n",
    "1. **DHCPDISCOVER:** The client broadcasts a request for an IP address.\n",
    "2. **DHCPOFFER:** The server offers an IP address from its pool.\n",
    "3. **DHCPREQUEST:** The client requests the offered IP address.\n",
    "4. **DHCPACK:** The server acknowledges the assignment, and the client is configured.\n",
    "\n",
    "Run the cell below to simulate the DHCP process."
   ]
  },
  {
   "cell_type": "code",
   "execution_count": 10,
   "metadata": {},
   "outputs": [
    {
     "name": "stdout",
     "output_type": "stream",
     "text": [
      "=== Simple DHCP Simulation ===\n",
      "\n",
      "[CLIENT] Step 1: Sending DHCP DISCOVER\n",
      "\n",
      "[SERVER] Step 2: Making DHCP OFFER\n",
      "\n",
      "[CLIENT] Step 3: Sending DHCP REQUEST\n",
      "\n",
      "[SERVER] Step 4: Sending DHCP ACK\n",
      "\n",
      "=== Result ===\n",
      "Client AA:BB:CC:DD:EE:FF got IP: 192.168.1.100\n",
      "Server leases: {'AA:BB:CC:DD:EE:FF': '192.168.1.100'}\n"
     ]
    }
   ],
   "source": [
    "def send_discover(client_mac):\n",
    "    print(\"\\n[CLIENT] Step 1: Sending DHCP DISCOVER\")\n",
    "    return { \"type\": \"DISCOVER\", \"mac\": client_mac }\n",
    "\n",
    "def make_offer(discover, ip_pool):\n",
    "    print(\"\\n[SERVER] Step 2: Making DHCP OFFER\")\n",
    "    if not ip_pool:\n",
    "        print(\"No IPs available!\")\n",
    "        return None\n",
    "    offered_ip = ip_pool.pop(0)\n",
    "    return { \"type\": \"OFFER\", \"mac\": discover[\"mac\"], \"ip\": offered_ip }\n",
    "\n",
    "def send_request(offer):\n",
    "    print(\"\\n[CLIENT] Step 3: Sending DHCP REQUEST\")\n",
    "    return { \"type\": \"REQUEST\", \"mac\": offer[\"mac\"], \"ip\": offer[\"ip\"] }\n",
    "\n",
    "def send_ack(request, leases):\n",
    "    print(\"\\n[SERVER] Step 4: Sending DHCP ACK\")\n",
    "    leases[request[\"mac\"]] = request[\"ip\"]\n",
    "    return { \"type\": \"ACK\", \"mac\": request[\"mac\"], \"ip\": request[\"ip\"] }\n",
    "\n",
    "def dhcp_simulation():\n",
    "    # Server configuration\n",
    "    server = {\n",
    "        \"ip_pool\": [\"192.168.1.100\", \"192.168.1.101\", \"192.168.1.102\"],\n",
    "        \"leases\": {}\n",
    "    }\n",
    "    \n",
    "    # Client configuration\n",
    "    client = { \"mac\": \"AA:BB:CC:DD:EE:FF\", \"ip\": None }\n",
    "    \n",
    "    print(\"=== Simple DHCP Simulation ===\")\n",
    "    discover = send_discover(client[\"mac\"])\n",
    "    offer = make_offer(discover, server[\"ip_pool\"])\n",
    "    if not offer:\n",
    "        return\n",
    "    request = send_request(offer)\n",
    "    ack = send_ack(request, server[\"leases\"])\n",
    "    client[\"ip\"] = ack[\"ip\"]\n",
    "    \n",
    "    print(\"\\n=== Result ===\")\n",
    "    print(f\"Client {client['mac']} got IP: {client['ip']}\")\n",
    "    print(\"Server leases:\", server[\"leases\"])\n",
    "\n",
    "dhcp_simulation()"
   ]
  }
 ],
 "metadata": {
  "kernelspec": {
   "display_name": "Python 3",
   "language": "python",
   "name": "python3"
  },
  "language_info": {
   "codemirror_mode": {
    "name": "ipython",
    "version": 3
   },
   "file_extension": ".py",
   "mimetype": "text/x-python",
   "name": "python",
   "nbconvert_exporter": "python",
   "pygments_lexer": "ipython3",
   "version": "3.13.2"
  }
 },
 "nbformat": 4,
 "nbformat_minor": 2
}

{
 "cells": [
  {
   "cell_type": "markdown",
   "metadata": {},
   "source": [
    "## 1. Error Detection & Correction: Parity Bits\n",
    "\n",
    "Parity bits are a simple error-detection mechanism. For even parity, the parity bit is set so that the total number of 1s in the message (including the parity bit) is even. The code below computes an even parity bit for an 8-bit data array."
   ]
  },
  {
   "cell_type": "code",
   "execution_count": 1,
   "metadata": {},
   "outputs": [
    {
     "name": "stdout",
     "output_type": "stream",
     "text": [
      "Original Data: [1, 0, 1, 0, 1, 1, 0, 0]\n",
      "Computed Parity Bit (Even): 0\n",
      "\n",
      "Transmitted Data (Data + Parity): [1, 0, 1, 0, 1, 1, 0, 0, 0]\n"
     ]
    }
   ],
   "source": [
    "# Function to compute even parity bit\n",
    "def compute_even_parity(data):\n",
    "    # Sum the data bits and take modulo 2.\n",
    "    # If sum is odd, parity bit is 1 (to make total even); if even, parity bit is 0.\n",
    "    return sum(data) % 2\n",
    "\n",
    "# Original data bits (example)\n",
    "data = [1, 0, 1, 0, 1, 1, 0, 0]\n",
    "parity_bit = compute_even_parity(data)\n",
    "print(\"Original Data:\", data)\n",
    "print(\"Computed Parity Bit (Even):\", parity_bit)\n",
    "\n",
    "# Transmitted data: append parity bit to the data array\n",
    "transmitted_data = data + [parity_bit]\n",
    "print(\"\\nTransmitted Data (Data + Parity):\", transmitted_data)"
   ]
  },
  {
   "cell_type": "markdown",
   "metadata": {},
   "source": [
    "### Exercise 1\n",
    "\n",
    "Experiment with different data arrays and verify that the parity check computes the correct parity bit."
   ]
  },
  {
   "cell_type": "code",
   "execution_count": 2,
   "metadata": {},
   "outputs": [
    {
     "name": "stdout",
     "output_type": "stream",
     "text": [
      "\n",
      "Data with an Error Introduced at index 3 : [1, 0, 1, 1, 1, 1, 0, 0, 0]\n",
      "\n",
      "Error detected (Parity Check Failed)\n"
     ]
    }
   ],
   "source": [
    "# Exercise 2: Simulate an error by flipping a bit in the transmitted data\n",
    "error_index = 3  # For example, flip the bit at index 3 (0-indexed)\n",
    "data_with_error = transmitted_data.copy()\n",
    "data_with_error[error_index] = 1 - data_with_error[error_index]\n",
    "print(\"\\nData with an Error Introduced at index\", error_index, \":\", data_with_error)\n",
    "\n",
    "# At the receiver, perform the parity check (for even parity, the sum of all bits should be even)\n",
    "if sum(data_with_error) % 2 == 0:\n",
    "    print(\"\\nNo error detected (Parity Check Passed)\")\n",
    "else:\n",
    "    print(\"\\nError detected (Parity Check Failed)\")"
   ]
  },
  {
   "cell_type": "markdown",
   "metadata": {},
   "source": [
    "## 2. 2D Parity Bit Check\n",
    "\n",
    "2D parity extends simple parity by computing parity for each row and each column of a data block. This can improve error detection and, in some cases, allow single-bit error correction."
   ]
  },
  {
   "cell_type": "code",
   "execution_count": 3,
   "metadata": {},
   "outputs": [
    {
     "name": "stdout",
     "output_type": "stream",
     "text": [
      "Original Data:\n",
      " [[1 0 1 1]\n",
      " [0 1 0 0]\n",
      " [1 1 1 0]\n",
      " [0 0 1 1]]\n",
      "Row Parity: [1 1 1 0]\n",
      "Column Parity: [0 0 1 0]\n",
      "\n",
      "Data with error at (2, 1):\n",
      " [[1 0 1 1]\n",
      " [0 1 0 0]\n",
      " [1 0 1 0]\n",
      " [0 0 1 1]]\n",
      "New Row Parity: [1 1 0 0]\n",
      "New Column Parity: [0 1 1 0]\n",
      "\n",
      "Error detected at: (np.int64(2), np.int64(1))\n",
      "Corrected Data:\n",
      " [[1 0 1 1]\n",
      " [0 1 0 0]\n",
      " [1 1 1 0]\n",
      " [0 0 1 1]]\n"
     ]
    }
   ],
   "source": [
    "import numpy as np\n",
    "\n",
    "def compute_parity(mat):\n",
    "    # Returns (row_parity, col_parity) for even parity\n",
    "    return np.sum(mat, axis=1) % 2, np.sum(mat, axis=0) % 2\n",
    "\n",
    "# Create a 4x4 data matrix\n",
    "data_matrix = np.array([\n",
    "    [1, 0, 1, 1],\n",
    "    [0, 1, 0, 0],\n",
    "    [1, 1, 1, 0],\n",
    "    [0, 0, 1, 1]\n",
    "])\n",
    "\n",
    "print(\"Original Data:\\n\", data_matrix)\n",
    "\n",
    "# Compute original parity bits\n",
    "row_par, col_par = compute_parity(data_matrix)\n",
    "print(\"Row Parity:\", row_par)\n",
    "print(\"Column Parity:\", col_par)\n",
    "\n",
    "# Introduce an error by flipping the bit at row 2, column 1 (0-indexed)\n",
    "data_err = data_matrix.copy()\n",
    "data_err[2, 1] = 1 - data_err[2, 1]\n",
    "print(\"\\nData with error at (2, 1):\\n\", data_err)\n",
    "\n",
    "# Recompute parity bits after error\n",
    "new_row_par, new_col_par = compute_parity(data_err)\n",
    "print(\"New Row Parity:\", new_row_par)\n",
    "print(\"New Column Parity:\", new_col_par)\n",
    "\n",
    "# Detect and correct the error\n",
    "err_row = np.where(new_row_par != row_par)[0]\n",
    "err_col = np.where(new_col_par != col_par)[0]\n",
    "if err_row.size == 1 and err_col.size == 1:\n",
    "    error_location = (err_row[0], err_col[0])\n",
    "    print(\"\\nError detected at:\", error_location)\n",
    "    # Correct the error by flipping the bit back\n",
    "    data_err[error_location] = 1 - data_err[error_location]\n",
    "    print(\"Corrected Data:\\n\", data_err)\n",
    "else:\n",
    "    print(\"No single-bit error detected or multiple errors occurred.\")"
   ]
  },
  {
   "cell_type": "markdown",
   "metadata": {},
   "source": [
    "## 3. Checksum Using One’s Complement\n",
    "\n",
    "A checksum is used to detect errors in data transmission. The one’s complement checksum operates by summing fixed-size words (e.g., 16-bit words) using one’s complement arithmetic, then taking the one’s complement of the result.\n",
    "\n",
    "The code below demonstrates how to calculate and verify a one’s complement checksum."
   ]
  },
  {
   "cell_type": "code",
   "execution_count": 4,
   "metadata": {},
   "outputs": [
    {
     "name": "stdout",
     "output_type": "stream",
     "text": [
      "Calculated Checksum: 0b1001011110010111\n",
      "Checksum is valid\n"
     ]
    }
   ],
   "source": [
    "def ones_complement_sum(a, b, bit_size=16):\n",
    "    \"\"\"Perform one's complement addition of two numbers.\"\"\"\n",
    "    result = a + b\n",
    "    if result >= (1 << bit_size):  # If there's an overflow\n",
    "        result = (result + 1) & ((1 << bit_size) - 1)  # Wrap around carry\n",
    "    return result\n",
    "\n",
    "def calculate_checksum(data, bit_size=16):\n",
    "    \"\"\"Compute one's complement checksum for a list of integers.\"\"\"\n",
    "    checksum = 0\n",
    "    for word in data:\n",
    "        checksum = ones_complement_sum(checksum, word, bit_size)\n",
    "    return ~checksum & ((1 << bit_size) - 1)  # One's complement\n",
    "\n",
    "def verify_checksum(data, received_checksum, bit_size=16):\n",
    "    \"\"\"Verify the checksum by adding it to the computed sum.\"\"\"\n",
    "    total = 0\n",
    "    for word in data:\n",
    "        total = ones_complement_sum(total, word, bit_size)\n",
    "    total = ones_complement_sum(total, received_checksum, bit_size)\n",
    "    return total == (1 << bit_size) - 1  # Valid if all bits are 1\n",
    "\n",
    "# Example Usage\n",
    "data_words = [0b1010101010101010, 0b1100110011001100, 0b1111000011110000]  # Example 16-bit words\n",
    "checksum = calculate_checksum(data_words)\n",
    "print(f\"Calculated Checksum: {bin(checksum)}\")\n",
    "\n",
    "# Verification\n",
    "is_valid = verify_checksum(data_words, checksum)\n",
    "print(\"Checksum is valid\" if is_valid else \"Checksum is invalid\")"
   ]
  },
  {
   "cell_type": "markdown",
   "metadata": {},
   "source": [
    "## 4. Multiple Access Protocols Simulation – Slotted ALOHA\n",
    "\n",
    "In a slotted ALOHA system, nodes transmit in discrete time slots. Each node transmits with a given probability in each slot. The efficiency (throughput) is defined as the fraction of slots with exactly one successful transmission.\n",
    "\n",
    "The code below simulates slotted ALOHA for a given number of nodes and transmission probability."
   ]
  },
  {
   "cell_type": "code",
   "execution_count": 12,
   "metadata": {},
   "outputs": [
    {
     "name": "stderr",
     "output_type": "stream",
     "text": [
      "Matplotlib is building the font cache; this may take a moment.\n"
     ]
    },
    {
     "data": {
      "image/png": "[encoded data removed]",
      "text/plain": [
       "<Figure size 640x480 with 1 Axes>"
      ]
     },
     "metadata": {},
     "output_type": "display_data"
    }
   ],
   "source": [
    "\n",
    "import random\n",
    "import matplotlib.pyplot as plt\n",
    "import numpy as np\n",
    "\n",
    "def slotted_aloha(n_nodes, p, slots):\n",
    "    # Count the number of slots with exactly one transmission.\n",
    "    success = 0\n",
    "    for _ in range(slots):\n",
    "        transmissions = 0\n",
    "        for _ in range(n_nodes):\n",
    "            # Each node transmits with probability p in each slot.\n",
    "            if random.random() < p:\n",
    "                transmissions += 1\n",
    "        # A successful transmission happens when exactly one node transmits.\n",
    "        if transmissions == 1:\n",
    "            success += 1\n",
    "    # Efficiency is the fraction of slots with exactly one transmission.\n",
    "    return success / slots\n",
    "\n",
    "# Set simulation parameters\n",
    "n_nodes = 50         # Number of nodes in the network\n",
    "slots = 10000        # Number of time slots to simulate\n",
    "ps = np.linspace(0, 1, 50)  # Different transmission probabilities\n",
    "\n",
    "# Compute efficiency for each probability\n",
    "efficiencies = [slotted_aloha(n_nodes, p, slots) for p in ps]\n",
    "\n",
    "# Plot the result\n",
    "plt.plot(ps, efficiencies, marker='o')\n",
    "plt.xlabel('Transmission Probability')\n",
    "plt.ylabel('Efficiency')\n",
    "plt.title('Slotted ALOHA Efficiency Simulation')\n",
    "plt.show()\n"
   ]
  },
  {
   "cell_type": "code",
   "execution_count": null,
   "metadata": {},
   "outputs": [],
   "source": []
  },
  {
   "cell_type": "code",
   "execution_count": 15,
   "metadata": {},
   "outputs": [
    {
     "data": {
      "image/png": "[encoded data removed]",
      "text/plain": [
       "<Figure size 640x480 with 1 Axes>"
      ]
     },
     "metadata": {},
     "output_type": "display_data"
    }
   ],
   "source": [
    "import random\n",
    "import matplotlib.pyplot as plt\n",
    "import numpy as np\n",
    "\n",
    "def slotted_aloha(n_nodes, p, slots):\n",
    "    # Count the number of slots with exactly one transmission.\n",
    "    success = 0\n",
    "    for _ in range(slots):\n",
    "        transmissions = 0\n",
    "        for _ in range(n_nodes):\n",
    "            # Each node transmits with probability p in each slot.\n",
    "            if random.random() < p:\n",
    "                transmissions += 1\n",
    "        # A successful transmission happens when exactly one node transmits.\n",
    "        if transmissions == 1:\n",
    "            success += 1\n",
    "    # Efficiency is the fraction of slots with exactly one transmission.\n",
    "    return success / slots\n",
    "\n",
    "# Set simulation parameters\n",
    "n_nodes = 50         # Number of nodes in the network\n",
    "slots = 10000        # Number of time slots to simulate\n",
    "ps = np.linspace(0, 1, 50)  # Different transmission probabilities\n",
    "\n",
    "# Compute efficiency for each probability\n",
    "efficiencies = [slotted_aloha(n_nodes, p, slots) for p in ps]\n",
    "\n",
    "# Plot the result\n",
    "plt.plot(ps, efficiencies, marker='o')\n",
    "plt.xlabel('Transmission Probability')\n",
    "plt.ylabel('Efficiency')\n",
    "plt.title('Slotted ALOHA Efficiency Simulation')\n",
    "plt.show()\n",
    "\n"
   ]
  }
 ],
 "metadata": {
  "kernelspec": {
   "display_name": "Python 3",
   "language": "python",
   "name": "python3"
  },
  "language_info": {
   "codemirror_mode": {
    "name": "ipython",
    "version": 3
   },
   "file_extension": ".py",
   "mimetype": "text/x-python",
   "name": "python",
   "nbconvert_exporter": "python",
   "pygments_lexer": "ipython3",
   "version": "3.13.2"
  }
 },
 "nbformat": 4,
 "nbformat_minor": 2
}

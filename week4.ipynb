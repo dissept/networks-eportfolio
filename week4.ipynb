{
 "cells": [
  {
   "cell_type": "markdown",
   "metadata": {},
   "source": [
    "## Exercise 1: UDP Chat Application\n",
    "\n",
    "This exercise uses UDP to build a simple chat application. Clients send messages to a central server that broadcasts them to all other clients."
   ]
  },
  {
   "cell_type": "code",
   "execution_count": null,
   "metadata": {},
   "outputs": [],
   "source": []
  },
  {
   "cell_type": "code",
   "execution_count": 2,
   "metadata": {},
   "outputs": [],
   "source": [
    "import socket\n",
    "\n",
    "def run_udp_chat_server(host='localhost', port=65433):\n",
    "    server_socket = socket.socket(socket.AF_INET, socket.SOCK_DGRAM)\n",
    "    server_socket.bind((host, port))\n",
    "    print(f\"UDP Chat Server is running on {host}:{port}...\")\n",
    "    \n",
    "    # Dictionary to map client addresses to usernames\n",
    "    clients = {}\n",
    "    \n",
    "    try:\n",
    "        while True:\n",
    "            data, client_address = server_socket.recvfrom(2048)\n",
    "            message = data.decode().strip()\n",
    "            \n",
    "            # If new client, treat first message as username\n",
    "            if client_address not in clients:\n",
    "                username = message\n",
    "                clients[client_address] = username\n",
    "                print(f\"New client: {client_address} as {username}\")\n",
    "                server_socket.sendto(f\"Welcome, {username}!\".encode(), client_address)\n",
    "            else:\n",
    "                sender = clients[client_address]\n",
    "                broadcast_msg = f\"{sender}: {message}\"\n",
    "                print(f\"Broadcasting: {broadcast_msg}\")\n",
    "                for addr in clients:\n",
    "                    if addr != client_address:\n",
    "                        server_socket.sendto(broadcast_msg.encode(), addr)\n",
    "    except KeyboardInterrupt:\n",
    "        print(\"\\nShutting down chat server.\")\n",
    "    finally:\n",
    "        server_socket.close()\n",
    "\n",
    "# Uncomment the next line to run the chat server\n",
    "# run_udp_chat_server()"
   ]
  },
  {
   "cell_type": "markdown",
   "metadata": {},
   "source": [
    "### UDP Chat Client\n",
    "\n",
    "Below is a simple UDP chat client. Run this in a separate terminal or notebook cell. The first message sent is considered the username."
   ]
  },
  {
   "cell_type": "code",
   "execution_count": 3,
   "metadata": {},
   "outputs": [],
   "source": [
    "import socket\n",
    "import threading\n",
    "\n",
    "def receive_messages(client_socket):\n",
    "    while True:\n",
    "        try:\n",
    "            data, _ = client_socket.recvfrom(2048)\n",
    "            print(\"\\n\" + data.decode())\n",
    "        except Exception as e:\n",
    "            print(\"Error receiving:\", e)\n",
    "            break\n",
    "\n",
    "def run_udp_chat_client(server_host='localhost', server_port=65433):\n",
    "    client_socket = socket.socket(socket.AF_INET, socket.SOCK_DGRAM)\n",
    "    server_address = (server_host, server_port)\n",
    "    \n",
    "    # Start a thread to receive messages\n",
    "    thread = threading.Thread(target=receive_messages, args=(client_socket,), daemon=True)\n",
    "    thread.start()\n",
    "    \n",
    "    print(\"UDP Chat Client. Type your messages below. Your first message will be your username.\")\n",
    "    try:\n",
    "        while True:\n",
    "            msg = input()\n",
    "            if msg:\n",
    "                client_socket.sendto(msg.encode(), server_address)\n",
    "    except KeyboardInterrupt:\n",
    "        print(\"Exiting chat client.\")\n",
    "    finally:\n",
    "        client_socket.close()\n",
    "\n",
    "# Uncomment the next line to run the chat client\n",
    "# run_udp_chat_client()"
   ]
  },
  {
   "cell_type": "markdown",
   "metadata": {},
   "source": [
    "## Exercise 2: Mapping User IP Addresses\n",
    "\n",
    "In this exercise, we create a simple dictionary that maps a client's IP address to a username. This example is embedded in the chat server above. The `clients` dictionary in the server maps each client address to a username.\n",
    "\n",
    "You can view the dictionary by printing it on the server side."
   ]
  },
  {
   "cell_type": "markdown",
   "metadata": {},
   "source": [
    "## Exercise 3: Adding Authentication\n",
    "\n",
    "Enhance the UDP chat server so that clients must authenticate before chatting. In this simple example, the server expects the first message from a client to be in the format `username:password`. Only if the password matches a preset value (e.g. `pass123`), the client is accepted."
   ]
  },
  {
   "cell_type": "code",
   "execution_count": 5,
   "metadata": {},
   "outputs": [],
   "source": [
    "import socket\n",
    "\n",
    "def run_udp_auth_server(host='localhost', port=65433, valid_password='pass123'):\n",
    "    server_socket = socket.socket(socket.AF_INET, socket.SOCK_DGRAM)\n",
    "    server_socket.bind((host, port))\n",
    "    print(f\"UDP Auth Server is running on {host}:{port}...\")\n",
    "    \n",
    "    # Dictionary to store authenticated clients\n",
    "    clients = {}\n",
    "    \n",
    "    try:\n",
    "        while True:\n",
    "            data, client_address = server_socket.recvfrom(2048)\n",
    "            message = data.decode().strip()\n",
    "            \n",
    "            # If client is not authenticated, expect username:password\n",
    "            if client_address not in clients:\n",
    "                if ':' in message:\n",
    "                    username, password = message.split(':', 1)\n",
    "                    if password == valid_password:\n",
    "                        clients[client_address] = username\n",
    "                        server_socket.sendto(f\"Welcome, {username}!\".encode(), client_address)\n",
    "                        print(f\"Authenticated {client_address} as {username}\")\n",
    "                    else:\n",
    "                        server_socket.sendto(\"Authentication failed.\".encode(), client_address)\n",
    "                else:\n",
    "                    server_socket.sendto(\"Please send credentials as username:password\".encode(), client_address)\n",
    "            else:\n",
    "                sender = clients[client_address]\n",
    "                broadcast_msg = f\"{sender}: {message}\"\n",
    "                print(f\"Broadcasting: {broadcast_msg}\")\n",
    "                for addr in clients:\n",
    "                    if addr != client_address:\n",
    "                        server_socket.sendto(broadcast_msg.encode(), addr)\n",
    "    except KeyboardInterrupt:\n",
    "        print(\"\\nShutting down auth server.\")\n",
    "    finally:\n",
    "        server_socket.close()\n",
    "\n",
    "# Uncomment the next line to run the authentication server\n",
    "# run_udp_auth_server()"
   ]
  },
  {
   "cell_type": "markdown",
   "metadata": {},
   "source": [
    "## Exercise 4: Encrypting and Decrypting Messages\n",
    "\n",
    "In this exercise, we use the Fernet module from the `cryptography` library to encrypt messages on the client side and decrypt them on the server side. (Make sure to install the cryptography package: `pip install cryptography`.)"
   ]
  },
  {
   "cell_type": "code",
   "execution_count": 7,
   "metadata": {},
   "outputs": [
    {
     "name": "stdout",
     "output_type": "stream",
     "text": [
      "Original: Hello, secure UDP!\n",
      "Encrypted: b'gAAAAABn2wDbKKo_F98vGi46Ht45d4Dp-hojwznp0b6qLCm6VzcK7Gkz1mpeNkRlCQTmtfbe3rcVeTjDKzz_HhC_MOSXT7G4hXN2A_DuGbjHk3UJ5WE6Wlo='\n",
      "Decrypted: Hello, secure UDP!\n"
     ]
    }
   ],
   "source": [
    "from cryptography.fernet import Fernet\n",
    "\n",
    "# Generate a key (this should be done once and shared securely between client and server)\n",
    "key = Fernet.generate_key()\n",
    "cipher = Fernet(key)\n",
    "\n",
    "def encrypt_message(message):\n",
    "    return cipher.encrypt(message.encode())\n",
    "\n",
    "def decrypt_message(token):\n",
    "    return cipher.decrypt(token).decode()\n",
    "\n",
    "# Example usage:\n",
    "original = \"Hello, secure UDP!\"\n",
    "encrypted = encrypt_message(original)\n",
    "decrypted = decrypt_message(encrypted)\n",
    "print(\"Original:\", original)\n",
    "print(\"Encrypted:\", encrypted)\n",
    "print(\"Decrypted:\", decrypted)"
   ]
  },
  {
   "cell_type": "markdown",
   "metadata": {},
   "source": [
    "## Exercise 5: API Data Collection Application\n",
    "\n",
    "This exercise demonstrates fetching weather data from an API (using Open-Meteo) and sending it via UDP to a server."
   ]
  },
  {
   "cell_type": "code",
   "execution_count": 9,
   "metadata": {},
   "outputs": [
    {
     "name": "stdout",
     "output_type": "stream",
     "text": [
      "Weather data sent!\n"
     ]
    }
   ],
   "source": [
    "import socket\n",
    "import requests\n",
    "\n",
    "# Fetch weather data from Open-Meteo API\n",
    "api_url = \"https://api.open-meteo.com/v1/forecast?latitude=51.47&longitude=-0.0363&current_weather=true\"\n",
    "response = requests.get(api_url)\n",
    "\n",
    "if response.status_code == 200:\n",
    "    weather_data = response.json()\n",
    "    temperature = weather_data[\"current_weather\"][\"temperature\"]\n",
    "    message = f\"Current temperature: {temperature}°C\"\n",
    "else:\n",
    "    message = \"Failed to fetch weather data\"\n",
    "\n",
    "# Send the weather data using UDP\n",
    "client_socket = socket.socket(socket.AF_INET, socket.SOCK_DGRAM)\n",
    "server_address = ('localhost', 65433)  \n",
    "client_socket.sendto(message.encode(), server_address)\n",
    "print(\"Weather data sent!\")\n",
    "client_socket.close()"
   ]
  },
  {
   "cell_type": "markdown",
   "metadata": {},
   "source": [
    "## Exercise 6: Compare Temperature Between Two Locations\n",
    "\n",
    "In this exercise, update the API data collection script to fetch weather data for two locations (for example, one for your university and one for the British Library) and compare the temperatures."
   ]
  },
  {
   "cell_type": "code",
   "execution_count": 10,
   "metadata": {},
   "outputs": [
    {
     "name": "stdout",
     "output_type": "stream",
     "text": [
      "University temperature: 15.9°C\n",
      "British Library temperature: 15.9°C\n",
      "Temperature difference: 0.0°C\n"
     ]
    }
   ],
   "source": [
    "import requests\n",
    "\n",
    "def get_temperature(latitude, longitude):\n",
    "    api_url = f\"https://api.open-meteo.com/v1/forecast?latitude={latitude}&longitude={longitude}&current_weather=true\"\n",
    "    response = requests.get(api_url)\n",
    "    if response.status_code == 200:\n",
    "        weather_data = response.json()\n",
    "        return weather_data[\"current_weather\"][\"temperature\"]\n",
    "    else:\n",
    "        return None\n",
    "\n",
    "# Example coordinates (replace with actual coordinates):\n",
    "# University (e.g., 51.5, -0.1) and British Library (e.g., 51.52, -0.12)\n",
    "uni_lat, uni_lon = 51.5, -0.1\n",
    "brit_lat, brit_lon = 51.52, -0.12\n",
    "\n",
    "temp_uni = get_temperature(uni_lat, uni_lon)\n",
    "temp_brit = get_temperature(brit_lat, brit_lon)\n",
    "\n",
    "if temp_uni is not None and temp_brit is not None:\n",
    "    print(f\"University temperature: {temp_uni}°C\")\n",
    "    print(f\"British Library temperature: {temp_brit}°C\")\n",
    "    diff = abs(temp_uni - temp_brit)\n",
    "    print(f\"Temperature difference: {diff}°C\")\n",
    "else:\n",
    "    print(\"Failed to fetch temperature data for one or both locations.\")"
   ]
  }
 ],
 "metadata": {
  "kernelspec": {
   "display_name": "Python 3",
   "language": "python",
   "name": "python3"
  },
  "language_info": {
   "codemirror_mode": {
    "name": "ipython",
    "version": 3
   },
   "file_extension": ".py",
   "mimetype": "text/x-python",
   "name": "python",
   "nbconvert_exporter": "python",
   "pygments_lexer": "ipython3",
   "version": "3.13.2"
  }
 },
 "nbformat": 4,
 "nbformat_minor": 2
}

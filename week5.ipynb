{
 "cells": [
  {
   "cell_type": "markdown",
   "metadata": {},
   "source": [
    "## 1. Building a Simple TCP Server\n",
    "\n",
    "### Objective\n",
    "\n",
    "Create a TCP server that accepts client connections, echoes received messages, and can optionally log data."
   ]
  },
  {
   "cell_type": "code",
   "execution_count": 33,
   "metadata": {},
   "outputs": [
    {
     "name": "stdout",
     "output_type": "stream",
     "text": [
      "TCP Server is listening on port 65432...\n",
      "\n",
      "Server is shutting down.\n"
     ]
    }
   ],
   "source": [
    "import socket\n",
    "\n",
    "server_socket = socket.socket(socket.AF_INET, socket.SOCK_STREAM)\n",
    "server_socket.bind(('localhost', 65432))\n",
    "server_socket.listen(1)  # Allow 1 pending connection\n",
    "print(\"TCP Server is listening on port 65432...\")\n",
    "\n",
    "try:\n",
    "    while True:\n",
    "        client_socket, client_address = server_socket.accept()\n",
    "        print(f\"Connected to {client_address}\")\n",
    "        data = client_socket.recv(1024)\n",
    "        print(f\"Received: {data.decode()}\")\n",
    "        \n",
    "        # Echo back the data\n",
    "        client_socket.sendall(b\"ACK: \" + data)\n",
    "        \n",
    "        # OPTIONAL: Log the received data to a file\n",
    "        # with open('received_data.txt', 'a', encoding='utf-8') as f:\n",
    "        #     f.write(f\"{client_address}: {data.decode()}\\n\")\n",
    "        \n",
    "        client_socket.close()\n",
    "except KeyboardInterrupt:\n",
    "    print(\"\\nServer is shutting down.\")\n",
    "finally:\n",
    "    server_socket.close()"
   ]
  },
  {
   "cell_type": "markdown",
   "metadata": {},
   "source": [
    "## 2. TCP Client – Measuring Send Time with datetime\n",
    "\n",
    "### Objective\n",
    "\n",
    "Modify the TCP client to measure how long it takes to send data and receive a response."
   ]
  },
  {
   "cell_type": "code",
   "execution_count": null,
   "metadata": {},
   "outputs": [],
   "source": [
    "import socket\n",
    "import datetime\n",
    "\n",
    "# Create a TCP socket\n",
    "client_socket = socket.socket(socket.AF_INET, socket.SOCK_STREAM)\n",
    "\n",
    "# Connect to the server (ensure the server is running on this address and port)\n",
    "client_socket.connect(('localhost', 65432))\n",
    "\n",
    "message = input(\"Enter message: \")\n",
    "\n",
    "# Measure start time\n",
    "start_time = datetime.datetime.now()\n",
    "\n",
    "# Send message to the server\n",
    "client_socket.sendall(message.encode())\n",
    "\n",
    "# Receive response from the server\n",
    "response = client_socket.recv(1024)\n",
    "\n",
    "# Measure end time\n",
    "end_time = datetime.datetime.now()\n",
    "\n",
    "# Calculate round-trip time\n",
    "elapsed = end_time - start_time\n",
    "\n",
    "print(\"Server response:\", response.decode())\n",
    "print(\"Round-trip time:\", elapsed.total_seconds(), \"seconds\")\n",
    "\n",
    "client_socket.close()\n"
   ]
  },
  {
   "cell_type": "markdown",
   "metadata": {},
   "source": [
    "## 3. UDP Client – Compare Transmission Time\n",
    "\n",
    "### Objective\n",
    "\n",
    "Change the script so that the data is sent using UDP instead of TCP. Compare the time taken with TCP.\n",
    "\n",
    "Note: Run a corresponding UDP server on port 65432 (or change the port as needed)."
   ]
  },
  {
   "cell_type": "code",
   "execution_count": null,
   "metadata": {},
   "outputs": [
    {
     "ename": "KeyboardInterrupt",
     "evalue": "",
     "output_type": "error",
     "traceback": [
      "\u001b[31m---------------------------------------------------------------------------\u001b[39m",
      "\u001b[31mKeyboardInterrupt\u001b[39m                         Traceback (most recent call last)",
      "\u001b[36mCell\u001b[39m\u001b[36m \u001b[39m\u001b[32mIn[10]\u001b[39m\u001b[32m, line 13\u001b[39m\n\u001b[32m     10\u001b[39m client_socket.sendto(message.encode(), server_address)\n\u001b[32m     12\u001b[39m \u001b[38;5;66;03m# For UDP, receive response if the server sends one\u001b[39;00m\n\u001b[32m---> \u001b[39m\u001b[32m13\u001b[39m response, _ = \u001b[43mclient_socket\u001b[49m\u001b[43m.\u001b[49m\u001b[43mrecvfrom\u001b[49m\u001b[43m(\u001b[49m\u001b[32;43m1024\u001b[39;49m\u001b[43m)\u001b[49m\n\u001b[32m     14\u001b[39m end_time = datetime.datetime.now()\n\u001b[32m     15\u001b[39m elapsed = end_time - start_time\n",
      "\u001b[31mKeyboardInterrupt\u001b[39m: "
     ]
    }
   ],
   "source": [
    "import socket\n",
    "import datetime\n",
    "\n",
    "client_socket = socket.socket(socket.AF_INET, socket.SOCK_DGRAM)\n",
    "server_address = ('localhost', 65432)\n",
    "\n",
    "message = input(\"Enter message (UDP): \")\n",
    "\n",
    "start_time = datetime.datetime.now()\n",
    "client_socket.sendto(message.encode(), server_address)\n",
    "\n",
    "# For UDP, receive response if the server sends one\n",
    "response, _ = client_socket.recvfrom(1024)\n",
    "end_time = datetime.datetime.now()\n",
    "elapsed = end_time - start_time\n",
    "\n",
    "print(f\"Server response: {response.decode()}\")\n",
    "print(f\"Time taken (UDP): {elapsed.total_seconds()} seconds\")\n",
    "\n",
    "client_socket.close()"
   ]
  },
  {
   "cell_type": "markdown",
   "metadata": {},
   "source": [
    "## 4. Logging Data in a TXT File Over TCP\n",
    "\n",
    "### Objective\n",
    "\n",
    "Enhance the TCP server so that every received message is also saved (appended) to a text file."
   ]
  },
  {
   "cell_type": "code",
   "execution_count": 24,
   "metadata": {},
   "outputs": [
    {
     "name": "stdout",
     "output_type": "stream",
     "text": [
      "TCP Server with logging is listening on port 65432...\n",
      "\n",
      "Server is shutting down.\n"
     ]
    }
   ],
   "source": [
    "# The following snippet shows how to log data to a file.\n",
    "import socket\n",
    "\n",
    "server_socket = socket.socket(socket.AF_INET, socket.SOCK_STREAM)\n",
    "server_socket.bind(('localhost', 65432))\n",
    "server_socket.listen(1)\n",
    "print(\"TCP Server with logging is listening on port 65432...\")\n",
    "\n",
    "try:\n",
    "    while True:\n",
    "        client_socket, client_address = server_socket.accept()\n",
    "        print(f\"Connected to {client_address}\")\n",
    "        data = client_socket.recv(1024)\n",
    "        decoded_data = data.decode()\n",
    "        print(f\"Received: {decoded_data}\")\n",
    "        \n",
    "        # Echo back the data\n",
    "        client_socket.sendall(b\"ACK: \" + data)\n",
    "        \n",
    "        # Log data to a file\n",
    "        with open('received_data.txt', 'a', encoding='utf-8') as f:\n",
    "            f.write(f\"{client_address}: {decoded_data}\\n\")\n",
    "        \n",
    "        client_socket.close()\n",
    "except KeyboardInterrupt:\n",
    "    print(\"\\nServer is shutting down.\")\n",
    "finally:\n",
    "    server_socket.close()"
   ]
  },
  {
   "cell_type": "markdown",
   "metadata": {},
   "source": [
    "## 5. File Transfer Over TCP\n",
    "\n",
    "### Objective\n",
    "\n",
    "Transfer a file from client to server over TCP. Create a text file named `file_to_send.txt` in the same folder as your notebook.\n",
    "\n",
    "### TCP File Transfer – Client"
   ]
  },
  {
   "cell_type": "code",
   "execution_count": 25,
   "metadata": {},
   "outputs": [
    {
     "ename": "ConnectionRefusedError",
     "evalue": "[Errno 61] Connection refused",
     "output_type": "error",
     "traceback": [
      "\u001b[31m---------------------------------------------------------------------------\u001b[39m",
      "\u001b[31mConnectionRefusedError\u001b[39m                    Traceback (most recent call last)",
      "\u001b[36mCell\u001b[39m\u001b[36m \u001b[39m\u001b[32mIn[25]\u001b[39m\u001b[32m, line 5\u001b[39m\n\u001b[32m      2\u001b[39m \u001b[38;5;28;01mimport\u001b[39;00m\u001b[38;5;250m \u001b[39m\u001b[34;01mdatetime\u001b[39;00m\n\u001b[32m      4\u001b[39m client_socket = socket.socket(socket.AF_INET, socket.SOCK_STREAM)\n\u001b[32m----> \u001b[39m\u001b[32m5\u001b[39m \u001b[43mclient_socket\u001b[49m\u001b[43m.\u001b[49m\u001b[43mconnect\u001b[49m\u001b[43m(\u001b[49m\u001b[43m(\u001b[49m\u001b[33;43m'\u001b[39;49m\u001b[33;43mlocalhost\u001b[39;49m\u001b[33;43m'\u001b[39;49m\u001b[43m,\u001b[49m\u001b[43m \u001b[49m\u001b[32;43m65432\u001b[39;49m\u001b[43m)\u001b[49m\u001b[43m)\u001b[49m\n\u001b[32m      7\u001b[39m start_time = datetime.datetime.now()\n\u001b[32m      8\u001b[39m \u001b[38;5;28;01mwith\u001b[39;00m \u001b[38;5;28mopen\u001b[39m(\u001b[33m'\u001b[39m\u001b[33mfile_to_send.txt\u001b[39m\u001b[33m'\u001b[39m, \u001b[33m'\u001b[39m\u001b[33mrb\u001b[39m\u001b[33m'\u001b[39m) \u001b[38;5;28;01mas\u001b[39;00m f:\n",
      "\u001b[31mConnectionRefusedError\u001b[39m: [Errno 61] Connection refused"
     ]
    }
   ],
   "source": [
    "import socket\n",
    "import datetime\n",
    "\n",
    "client_socket = socket.socket(socket.AF_INET, socket.SOCK_STREAM)\n",
    "client_socket.connect(('localhost', 65432))\n",
    "\n",
    "start_time = datetime.datetime.now()\n",
    "with open('file_to_send.txt', 'rb') as f:\n",
    "    client_socket.sendfile(f)\n",
    "end_time = datetime.datetime.now()\n",
    "elapsed = end_time - start_time\n",
    "\n",
    "print(\"File sent over TCP!\")\n",
    "print(f\"Time taken: {elapsed.total_seconds()} seconds\")\n",
    "client_socket.close()"
   ]
  },
  {
   "cell_type": "markdown",
   "metadata": {},
   "source": [
    "### TCP File Transfer – Server\n",
    "\n",
    "The server code below receives file data and writes it to `received_file.txt`."
   ]
  },
  {
   "cell_type": "code",
   "execution_count": null,
   "metadata": {},
   "outputs": [
    {
     "name": "stdout",
     "output_type": "stream",
     "text": [
      "TCP File Server is listening on port 65432...\n"
     ]
    },
    {
     "ename": "KeyboardInterrupt",
     "evalue": "",
     "output_type": "error",
     "traceback": [
      "\u001b[31m---------------------------------------------------------------------------\u001b[39m",
      "\u001b[31mKeyboardInterrupt\u001b[39m                         Traceback (most recent call last)",
      "\u001b[36mCell\u001b[39m\u001b[36m \u001b[39m\u001b[32mIn[26]\u001b[39m\u001b[32m, line 8\u001b[39m\n\u001b[32m      5\u001b[39m server_socket.listen(\u001b[32m1\u001b[39m)\n\u001b[32m      6\u001b[39m \u001b[38;5;28mprint\u001b[39m(\u001b[33m\"\u001b[39m\u001b[33mTCP File Server is listening on port 65432...\u001b[39m\u001b[33m\"\u001b[39m)\n\u001b[32m----> \u001b[39m\u001b[32m8\u001b[39m client_socket, client_address = \u001b[43mserver_socket\u001b[49m\u001b[43m.\u001b[49m\u001b[43maccept\u001b[49m\u001b[43m(\u001b[49m\u001b[43m)\u001b[49m\n\u001b[32m      9\u001b[39m \u001b[38;5;28mprint\u001b[39m(\u001b[33mf\u001b[39m\u001b[33m\"\u001b[39m\u001b[33mConnected to \u001b[39m\u001b[38;5;132;01m{\u001b[39;00mclient_address\u001b[38;5;132;01m}\u001b[39;00m\u001b[33m\"\u001b[39m)\n\u001b[32m     11\u001b[39m \u001b[38;5;28;01mwith\u001b[39;00m \u001b[38;5;28mopen\u001b[39m(\u001b[33m'\u001b[39m\u001b[33mreceived_file.txt\u001b[39m\u001b[33m'\u001b[39m, \u001b[33m'\u001b[39m\u001b[33mwb\u001b[39m\u001b[33m'\u001b[39m) \u001b[38;5;28;01mas\u001b[39;00m f:\n",
      "\u001b[36mFile \u001b[39m\u001b[32m/Library/Frameworks/Python.framework/Versions/3.13/lib/python3.13/socket.py:295\u001b[39m, in \u001b[36msocket.accept\u001b[39m\u001b[34m(self)\u001b[39m\n\u001b[32m    288\u001b[39m \u001b[38;5;28;01mdef\u001b[39;00m\u001b[38;5;250m \u001b[39m\u001b[34maccept\u001b[39m(\u001b[38;5;28mself\u001b[39m):\n\u001b[32m    289\u001b[39m \u001b[38;5;250m    \u001b[39m\u001b[33;03m\"\"\"accept() -> (socket object, address info)\u001b[39;00m\n\u001b[32m    290\u001b[39m \n\u001b[32m    291\u001b[39m \u001b[33;03m    Wait for an incoming connection.  Return a new socket\u001b[39;00m\n\u001b[32m    292\u001b[39m \u001b[33;03m    representing the connection, and the address of the client.\u001b[39;00m\n\u001b[32m    293\u001b[39m \u001b[33;03m    For IP sockets, the address info is a pair (hostaddr, port).\u001b[39;00m\n\u001b[32m    294\u001b[39m \u001b[33;03m    \"\"\"\u001b[39;00m\n\u001b[32m--> \u001b[39m\u001b[32m295\u001b[39m     fd, addr = \u001b[38;5;28;43mself\u001b[39;49m\u001b[43m.\u001b[49m\u001b[43m_accept\u001b[49m\u001b[43m(\u001b[49m\u001b[43m)\u001b[49m\n\u001b[32m    296\u001b[39m     sock = socket(\u001b[38;5;28mself\u001b[39m.family, \u001b[38;5;28mself\u001b[39m.type, \u001b[38;5;28mself\u001b[39m.proto, fileno=fd)\n\u001b[32m    297\u001b[39m     \u001b[38;5;66;03m# Issue #7995: if no default timeout is set and the listening\u001b[39;00m\n\u001b[32m    298\u001b[39m     \u001b[38;5;66;03m# socket had a (non-zero) timeout, force the new socket in blocking\u001b[39;00m\n\u001b[32m    299\u001b[39m     \u001b[38;5;66;03m# mode to override platform-specific socket flags inheritance.\u001b[39;00m\n",
      "\u001b[31mKeyboardInterrupt\u001b[39m: "
     ]
    }
   ],
   "source": [
    "import socket\n",
    "\n",
    "server_socket = socket.socket(socket.AF_INET, socket.SOCK_STREAM)\n",
    "server_socket.bind(('localhost', 65432))\n",
    "server_socket.listen(1)\n",
    "print(\"TCP File Server is listening on port 65432...\")\n",
    "\n",
    "client_socket, client_address = server_socket.accept()\n",
    "print(f\"Connected to {client_address}\")\n",
    "\n",
    "with open('received_file.txt', 'wb') as f:\n",
    "    while True:\n",
    "        data = client_socket.recv(1024)\n",
    "        if not data:\n",
    "            break\n",
    "        f.write(data)\n",
    "\n",
    "print(\"File received!\")\n",
    "client_socket.close()\n",
    "server_socket.close()"
   ]
  },
  {
   "cell_type": "markdown",
   "metadata": {},
   "source": [
    "## 6. File Transfer Over UDP (Variation)\n",
    "\n",
    "### UDP File Transfer – Client\n",
    "\n",
    "For UDP file transfer, send the entire file data in one go (note that UDP does not guarantee delivery or order)."
   ]
  },
  {
   "cell_type": "code",
   "execution_count": null,
   "metadata": {},
   "outputs": [
    {
     "ename": "FileNotFoundError",
     "evalue": "[Errno 2] No such file or directory: 'file_to_send.txt'",
     "output_type": "error",
     "traceback": [
      "\u001b[31m---------------------------------------------------------------------------\u001b[39m",
      "\u001b[31mFileNotFoundError\u001b[39m                         Traceback (most recent call last)",
      "\u001b[36mCell\u001b[39m\u001b[36m \u001b[39m\u001b[32mIn[27]\u001b[39m\u001b[32m, line 7\u001b[39m\n\u001b[32m      4\u001b[39m client_socket = socket.socket(socket.AF_INET, socket.SOCK_DGRAM)\n\u001b[32m      5\u001b[39m server_address = (\u001b[33m'\u001b[39m\u001b[33mlocalhost\u001b[39m\u001b[33m'\u001b[39m, \u001b[32m65433\u001b[39m)\n\u001b[32m----> \u001b[39m\u001b[32m7\u001b[39m \u001b[38;5;28;01mwith\u001b[39;00m \u001b[38;5;28;43mopen\u001b[39;49m\u001b[43m(\u001b[49m\u001b[33;43m'\u001b[39;49m\u001b[33;43mfile_to_send.txt\u001b[39;49m\u001b[33;43m'\u001b[39;49m\u001b[43m,\u001b[49m\u001b[43m \u001b[49m\u001b[33;43m'\u001b[39;49m\u001b[33;43mrb\u001b[39;49m\u001b[33;43m'\u001b[39;49m\u001b[43m)\u001b[49m \u001b[38;5;28;01mas\u001b[39;00m f:\n\u001b[32m      8\u001b[39m     file_data = f.read()\n\u001b[32m     10\u001b[39m start_time = datetime.datetime.now()\n",
      "\u001b[36mFile \u001b[39m\u001b[32m~/Library/Python/3.13/lib/python/site-packages/IPython/core/interactiveshell.py:325\u001b[39m, in \u001b[36m_modified_open\u001b[39m\u001b[34m(file, *args, **kwargs)\u001b[39m\n\u001b[32m    318\u001b[39m \u001b[38;5;28;01mif\u001b[39;00m file \u001b[38;5;129;01min\u001b[39;00m {\u001b[32m0\u001b[39m, \u001b[32m1\u001b[39m, \u001b[32m2\u001b[39m}:\n\u001b[32m    319\u001b[39m     \u001b[38;5;28;01mraise\u001b[39;00m \u001b[38;5;167;01mValueError\u001b[39;00m(\n\u001b[32m    320\u001b[39m         \u001b[33mf\u001b[39m\u001b[33m\"\u001b[39m\u001b[33mIPython won\u001b[39m\u001b[33m'\u001b[39m\u001b[33mt let you open fd=\u001b[39m\u001b[38;5;132;01m{\u001b[39;00mfile\u001b[38;5;132;01m}\u001b[39;00m\u001b[33m by default \u001b[39m\u001b[33m\"\u001b[39m\n\u001b[32m    321\u001b[39m         \u001b[33m\"\u001b[39m\u001b[33mas it is likely to crash IPython. If you know what you are doing, \u001b[39m\u001b[33m\"\u001b[39m\n\u001b[32m    322\u001b[39m         \u001b[33m\"\u001b[39m\u001b[33myou can use builtins\u001b[39m\u001b[33m'\u001b[39m\u001b[33m open.\u001b[39m\u001b[33m\"\u001b[39m\n\u001b[32m    323\u001b[39m     )\n\u001b[32m--> \u001b[39m\u001b[32m325\u001b[39m \u001b[38;5;28;01mreturn\u001b[39;00m \u001b[43mio_open\u001b[49m\u001b[43m(\u001b[49m\u001b[43mfile\u001b[49m\u001b[43m,\u001b[49m\u001b[43m \u001b[49m\u001b[43m*\u001b[49m\u001b[43margs\u001b[49m\u001b[43m,\u001b[49m\u001b[43m \u001b[49m\u001b[43m*\u001b[49m\u001b[43m*\u001b[49m\u001b[43mkwargs\u001b[49m\u001b[43m)\u001b[49m\n",
      "\u001b[31mFileNotFoundError\u001b[39m: [Errno 2] No such file or directory: 'file_to_send.txt'"
     ]
    }
   ],
   "source": [
    "import socket\n",
    "import datetime\n",
    "\n",
    "client_socket = socket.socket(socket.AF_INET, socket.SOCK_DGRAM)\n",
    "server_address = ('localhost', 65433)\n",
    "\n",
    "with open('file_to_send.txt', 'rb') as f:\n",
    "    file_data = f.read()\n",
    "\n",
    "start_time = datetime.datetime.now()\n",
    "client_socket.sendto(file_data, server_address)\n",
    "end_time = datetime.datetime.now()\n",
    "elapsed = end_time - start_time\n",
    "\n",
    "print(\"File sent over UDP!\")\n",
    "print(f\"Time taken: {elapsed.total_seconds()} seconds\")\n",
    "client_socket.close()"
   ]
  },
  {
   "cell_type": "markdown",
   "metadata": {},
   "source": [
    "### UDP File Transfer – Server\n",
    "\n",
    "The UDP server below listens on port 65433 and writes the received data to `received_file_udp.txt`."
   ]
  },
  {
   "cell_type": "code",
   "execution_count": 28,
   "metadata": {},
   "outputs": [
    {
     "ename": "OSError",
     "evalue": "[Errno 48] Address already in use",
     "output_type": "error",
     "traceback": [
      "\u001b[31m---------------------------------------------------------------------------\u001b[39m",
      "\u001b[31mOSError\u001b[39m                                   Traceback (most recent call last)",
      "\u001b[36mCell\u001b[39m\u001b[36m \u001b[39m\u001b[32mIn[28]\u001b[39m\u001b[32m, line 4\u001b[39m\n\u001b[32m      1\u001b[39m \u001b[38;5;28;01mimport\u001b[39;00m\u001b[38;5;250m \u001b[39m\u001b[34;01msocket\u001b[39;00m\n\u001b[32m      3\u001b[39m server_socket = socket.socket(socket.AF_INET, socket.SOCK_DGRAM)\n\u001b[32m----> \u001b[39m\u001b[32m4\u001b[39m \u001b[43mserver_socket\u001b[49m\u001b[43m.\u001b[49m\u001b[43mbind\u001b[49m\u001b[43m(\u001b[49m\u001b[43m(\u001b[49m\u001b[33;43m'\u001b[39;49m\u001b[33;43mlocalhost\u001b[39;49m\u001b[33;43m'\u001b[39;49m\u001b[43m,\u001b[49m\u001b[43m \u001b[49m\u001b[32;43m65433\u001b[39;49m\u001b[43m)\u001b[49m\u001b[43m)\u001b[49m\n\u001b[32m      5\u001b[39m \u001b[38;5;28mprint\u001b[39m(\u001b[33m\"\u001b[39m\u001b[33mUDP File Server is listening on port 65433...\u001b[39m\u001b[33m\"\u001b[39m)\n\u001b[32m      7\u001b[39m data, client_address = server_socket.recvfrom(\u001b[32m65535\u001b[39m)  \u001b[38;5;66;03m# large buffer size\u001b[39;00m\n",
      "\u001b[31mOSError\u001b[39m: [Errno 48] Address already in use"
     ]
    }
   ],
   "source": [
    "import socket\n",
    "\n",
    "server_socket = socket.socket(socket.AF_INET, socket.SOCK_DGRAM)\n",
    "server_socket.bind(('localhost', 65433))\n",
    "print(\"UDP File Server is listening on port 65433...\")\n",
    "\n",
    "data, client_address = server_socket.recvfrom(65535)  # large buffer size\n",
    "with open('received_file_udp.txt', 'wb') as f:\n",
    "    f.write(data)\n",
    "\n",
    "print(\"File received over UDP!\")\n",
    "server_socket.close()"
   ]
  },
  {
   "cell_type": "markdown",
   "metadata": {},
   "source": [
    "## 7. Challenge: TCP-Based Chat System\n",
    "\n",
    "### Objective\n",
    "\n",
    "Design a TCP-based chat system where a central server relays messages between multiple clients in real time using threading."
   ]
  },
  {
   "cell_type": "markdown",
   "metadata": {},
   "source": [
    "### Chat Server Code (Using Threading)"
   ]
  },
  {
   "cell_type": "code",
   "execution_count": 30,
   "metadata": {},
   "outputs": [
    {
     "ename": "OSError",
     "evalue": "[Errno 48] Address already in use",
     "output_type": "error",
     "traceback": [
      "\u001b[31m---------------------------------------------------------------------------\u001b[39m",
      "\u001b[31mOSError\u001b[39m                                   Traceback (most recent call last)",
      "\u001b[36mCell\u001b[39m\u001b[36m \u001b[39m\u001b[32mIn[30]\u001b[39m\u001b[32m, line 31\u001b[39m\n\u001b[32m     28\u001b[39m                 \u001b[38;5;28;01mpass\u001b[39;00m\n\u001b[32m     30\u001b[39m server_socket = socket.socket(socket.AF_INET, socket.SOCK_STREAM)\n\u001b[32m---> \u001b[39m\u001b[32m31\u001b[39m \u001b[43mserver_socket\u001b[49m\u001b[43m.\u001b[49m\u001b[43mbind\u001b[49m\u001b[43m(\u001b[49m\u001b[43m(\u001b[49m\u001b[33;43m'\u001b[39;49m\u001b[33;43mlocalhost\u001b[39;49m\u001b[33;43m'\u001b[39;49m\u001b[43m,\u001b[49m\u001b[43m \u001b[49m\u001b[32;43m65432\u001b[39;49m\u001b[43m)\u001b[49m\u001b[43m)\u001b[49m\n\u001b[32m     32\u001b[39m server_socket.listen(\u001b[32m5\u001b[39m)\n\u001b[32m     33\u001b[39m \u001b[38;5;28mprint\u001b[39m(\u001b[33m\"\u001b[39m\u001b[33mChat server listening on port 65432...\u001b[39m\u001b[33m\"\u001b[39m)\n",
      "\u001b[31mOSError\u001b[39m: [Errno 48] Address already in use"
     ]
    }
   ],
   "source": [
    "import socket\n",
    "import threading\n",
    "\n",
    "# List to keep track of client sockets\n",
    "clients = []\n",
    "\n",
    "def handle_client(client_socket, client_address):\n",
    "    print(f\"New connection: {client_address}\")\n",
    "    try:\n",
    "        while True:\n",
    "            message = client_socket.recv(1024)\n",
    "            if not message:\n",
    "                break\n",
    "            broadcast(message, client_socket)\n",
    "    except Exception as e:\n",
    "        print(f\"Error with {client_address}: {e}\")\n",
    "    finally:\n",
    "        print(f\"Connection closed: {client_address}\")\n",
    "        clients.remove(client_socket)\n",
    "        client_socket.close()\n",
    "\n",
    "def broadcast(message, sender_socket):\n",
    "    for client in clients:\n",
    "        if client != sender_socket:\n",
    "            try:\n",
    "                client.sendall(message)\n",
    "            except:\n",
    "                pass\n",
    "\n",
    "server_socket = socket.socket(socket.AF_INET, socket.SOCK_STREAM)\n",
    "server_socket.bind(('localhost', 65432))\n",
    "server_socket.listen(5)\n",
    "print(\"Chat server listening on port 65432...\")\n",
    "\n",
    "try:\n",
    "    while True:\n",
    "        client_socket, client_address = server_socket.accept()\n",
    "        clients.append(client_socket)\n",
    "        thread = threading.Thread(target=handle_client, args=(client_socket, client_address))\n",
    "        thread.daemon = True\n",
    "        thread.start()\n",
    "except KeyboardInterrupt:\n",
    "    print(\"Shutting down chat server...\")\n",
    "finally:\n",
    "    server_socket.close()"
   ]
  },
  {
   "cell_type": "markdown",
   "metadata": {},
   "source": [
    "### Chat Client Code"
   ]
  },
  {
   "cell_type": "code",
   "execution_count": 31,
   "metadata": {},
   "outputs": [
    {
     "name": "stdout",
     "output_type": "stream",
     "text": [
      "Connected to chat server. Type messages and press Enter to send. Type 'exit' to quit.\n"
     ]
    }
   ],
   "source": [
    "\n",
    "import socket\n",
    "import threading\n",
    "\n",
    "def receive_messages(client_socket):\n",
    "    while True:\n",
    "        try:\n",
    "            message = client_socket.recv(1024)\n",
    "            if not message:\n",
    "                break\n",
    "            print(message.decode())\n",
    "        except:\n",
    "            break\n",
    "\n",
    "client_socket = socket.socket(socket.AF_INET, socket.SOCK_STREAM)\n",
    "client_socket.connect(('localhost', 65432))\n",
    "\n",
    "# Start thread for receiving messages\n",
    "thread = threading.Thread(target=receive_messages, args=(client_socket,))\n",
    "thread.daemon = True\n",
    "thread.start()\n",
    "\n",
    "print(\"Connected to chat server. Type messages and press Enter to send. Type 'exit' to quit.\")\n",
    "try:\n",
    "    while True:\n",
    "        msg = input()\n",
    "        if msg.lower() == 'exit':\n",
    "            break\n",
    "        client_socket.sendall(msg.encode())\n",
    "except KeyboardInterrupt:\n",
    "    pass\n",
    "finally:\n",
    "    client_socket.close()"
   ]
  },
  {
   "cell_type": "markdown",
   "metadata": {},
   "source": [
    "## 8. Challenge: Adding Encryption for Secure Messaging\n",
    "\n",
    "### Objective\n",
    "\n",
    "Integrate encryption into your chat system so that messages are encrypted before sending and decrypted on receipt. The example below uses the Fernet module from the `cryptography` library.\n",
    "\n",
    "Before running, install the library using:\n",
    "```\n",
    "pip install cryptography\n",
    "```"
   ]
  },
  {
   "cell_type": "code",
   "execution_count": 32,
   "metadata": {},
   "outputs": [
    {
     "ename": "ModuleNotFoundError",
     "evalue": "No module named 'cryptography'",
     "output_type": "error",
     "traceback": [
      "\u001b[31m---------------------------------------------------------------------------\u001b[39m",
      "\u001b[31mModuleNotFoundError\u001b[39m                       Traceback (most recent call last)",
      "\u001b[36mCell\u001b[39m\u001b[36m \u001b[39m\u001b[32mIn[32]\u001b[39m\u001b[32m, line 1\u001b[39m\n\u001b[32m----> \u001b[39m\u001b[32m1\u001b[39m \u001b[38;5;28;01mfrom\u001b[39;00m\u001b[38;5;250m \u001b[39m\u001b[34;01mcryptography\u001b[39;00m\u001b[34;01m.\u001b[39;00m\u001b[34;01mfernet\u001b[39;00m\u001b[38;5;250m \u001b[39m\u001b[38;5;28;01mimport\u001b[39;00m Fernet\n\u001b[32m      3\u001b[39m \u001b[38;5;66;03m# Generate a key (do this once and save the key securely)\u001b[39;00m\n\u001b[32m      4\u001b[39m key = Fernet.generate_key()\n",
      "\u001b[31mModuleNotFoundError\u001b[39m: No module named 'cryptography'"
     ]
    }
   ],
   "source": [
    "\n",
    "from cryptography.fernet import Fernet\n",
    "\n",
    "# Generate a key (do this once and save the key securely)\n",
    "key = Fernet.generate_key()\n",
    "print(\"Key:\", key)\n",
    "\n",
    "# Create a Fernet cipher instance\n",
    "cipher = Fernet(key)\n",
    "\n",
    "# Encrypt a message\n",
    "original_message = \"Hello, secure world!\"\n",
    "encrypted_message = cipher.encrypt(original_message.encode())\n",
    "print(\"Encrypted:\", encrypted_message)\n",
    "\n",
    "# Decrypt the message\n",
    "decrypted_message = cipher.decrypt(encrypted_message).decode()\n",
    "print(\"Decrypted:\", decrypted_message)"
   ]
  }
 ],
 "metadata": {
  "kernelspec": {
   "display_name": "Python 3",
   "language": "python",
   "name": "python3"
  },
  "language_info": {
   "codemirror_mode": {
    "name": "ipython",
    "version": 3
   },
   "file_extension": ".py",
   "mimetype": "text/x-python",
   "name": "python",
   "nbconvert_exporter": "python",
   "pygments_lexer": "ipython3",
   "version": "3.13.2"
  }
 },
 "nbformat": 4,
 "nbformat_minor": 2
}

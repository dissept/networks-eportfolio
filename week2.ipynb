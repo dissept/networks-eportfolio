{
 "cells": [
  {
   "cell_type": "markdown",
   "metadata": {},
   "source": [
    "# Python Workshop Exercises\n",
    "\n",
    "This notebook contains several exercises covering basic math operations, data types, conditions, loops, functions, a password strength checker, a Caesar cipher, and a Hangman game."
   ]
  },
  {
   "cell_type": "markdown",
   "metadata": {},
   "source": [
    "## Exercise 1: Basic Math Operations\n",
    "\n",
    "Write a script to add, subtract, multiply, divide, calculate the remainder, and compute the power of two numbers."
   ]
  },
  {
   "cell_type": "code",
   "execution_count": 1,
   "metadata": {},
   "outputs": [
    {
     "name": "stdout",
     "output_type": "stream",
     "text": [
      "Addition: 15\n",
      "Subtraction: 5\n",
      "Multiplication: 50\n",
      "Division: 2.0\n",
      "Remainder: 0\n",
      "Power: 100000\n"
     ]
    }
   ],
   "source": [
    "a = 10\n",
    "b = 5\n",
    "\n",
    "print('Addition:', a + b)\n",
    "print('Subtraction:', a - b)\n",
    "print('Multiplication:', a * b)\n",
    "print('Division:', a / b)\n",
    "print('Remainder:', a % b)\n",
    "print('Power:', a ** b)"
   ]
  },
  {
   "cell_type": "markdown",
   "metadata": {},
   "source": [
    "## Exercise 2: Python Data Types\n",
    "\n",
    "1. Create a list of 5 different fruits and print it.\n",
    "2. Create a tuple of 3 different animals and print it.\n",
    "3. Create a dictionary of 3 different key-value pairs where the keys are names of programming languages and the values are their release dates.\n",
    "4. Create a set of 3 different colours and print it.\n",
    "5. Create a string variable containing the sentence \"Python is an easy-to-learn programming language.\""
   ]
  },
  {
   "cell_type": "code",
   "execution_count": 2,
   "metadata": {},
   "outputs": [
    {
     "name": "stdout",
     "output_type": "stream",
     "text": [
      "Fruits: ['apple', 'banana', 'cherry', 'mango', 'orange']\n",
      "Animals: ('cat', 'dog', 'elephant')\n",
      "Languages: {'Python': 1991, 'Java': 1995, 'C++': 1985}\n",
      "Colours: {'blue', 'red', 'green'}\n",
      "Python is an easy-to-learn programming language.\n"
     ]
    }
   ],
   "source": [
    "# List of fruits\n",
    "fruits = ['apple', 'banana', 'cherry', 'mango', 'orange']\n",
    "print('Fruits:', fruits)\n",
    "\n",
    "# Tuple of animals\n",
    "animals = ('cat', 'dog', 'elephant')\n",
    "print('Animals:', animals)\n",
    "\n",
    "# Dictionary of programming languages and their release dates\n",
    "languages = {'Python': 1991, 'Java': 1995, 'C++': 1985}\n",
    "print('Languages:', languages)\n",
    "\n",
    "# Set of colours\n",
    "colours = {'red', 'green', 'blue'}\n",
    "print('Colours:', colours)\n",
    "\n",
    "# String variable\n",
    "sentence = \"Python is an easy-to-learn programming language.\"\n",
    "print(sentence)"
   ]
  },
  {
   "cell_type": "markdown",
   "metadata": {},
   "source": [
    "## Exercise 3: Conditions\n",
    "\n",
    "1. Write a script that takes a user input of a number and checks if it is positive, negative, or zero. \n",
    "2. Write a script that takes a user input of a string and checks if it starts with a vowel or consonant. \n",
    "3. Write a script that takes two user inputs of numbers and checks if they are equal."
   ]
  },
  {
   "cell_type": "code",
   "execution_count": 4,
   "metadata": {},
   "outputs": [
    {
     "name": "stdout",
     "output_type": "stream",
     "text": [
      "The number is positive.\n",
      "The string starts with a consonant.\n",
      "The numbers are not equal.\n"
     ]
    }
   ],
   "source": [
    "# Check if a number is positive, negative, or zero\n",
    "number = float(input('Enter a number: '))\n",
    "if number > 0:\n",
    "    print('The number is positive.')\n",
    "elif number < 0:\n",
    "    print('The number is negative.')\n",
    "else:\n",
    "    print('The number is zero.')\n",
    "\n",
    "# Check if a string starts with a vowel or consonant\n",
    "word = input('Enter a string: ')\n",
    "if word:\n",
    "    first_char = word[0].lower()\n",
    "    if first_char in 'aeiou':\n",
    "        print('The string starts with a vowel.')\n",
    "    else:\n",
    "        print('The string starts with a consonant.')\n",
    "else:\n",
    "    print('You entered an empty string.')\n",
    "\n",
    "# Check if two numbers are equal\n",
    "num1 = float(input('Enter the first number: '))\n",
    "num2 = float(input('Enter the second number: '))\n",
    "if num1 == num2:\n",
    "    print('The numbers are equal.')\n",
    "else:\n",
    "    print('The numbers are not equal.')"
   ]
  },
  {
   "cell_type": "markdown",
   "metadata": {},
   "source": [
    "## Exercise 4: Loops\n",
    "\n",
    "1. Write a script that prints the numbers from 1 to 10 using a for loop.\n",
    "2. Write a script that prints the even numbers from 2 to 10 using a for loop.\n",
    "3. Write a script that prints the first 5 numbers of the Fibonacci sequence using a while loop."
   ]
  },
  {
   "cell_type": "code",
   "execution_count": 5,
   "metadata": {},
   "outputs": [
    {
     "name": "stdout",
     "output_type": "stream",
     "text": [
      "1\n",
      "2\n",
      "3\n",
      "4\n",
      "5\n",
      "6\n",
      "7\n",
      "8\n",
      "9\n",
      "10\n",
      "\n",
      "Even numbers from 2 to 10:\n",
      "2\n",
      "4\n",
      "6\n",
      "8\n",
      "10\n",
      "\n",
      "First 5 Fibonacci numbers:\n",
      "0\n",
      "1\n",
      "1\n",
      "2\n",
      "3\n"
     ]
    }
   ],
   "source": [
    "# Print numbers from 1 to 10\n",
    "for i in range(1, 11):\n",
    "    print(i)\n",
    "\n",
    "print('\\nEven numbers from 2 to 10:')\n",
    "# Print even numbers from 2 to 10\n",
    "for i in range(2, 11, 2):\n",
    "    print(i)\n",
    "\n",
    "print('\\nFirst 5 Fibonacci numbers:')\n",
    "# Print first 5 Fibonacci numbers using a while loop\n",
    "count = 0\n",
    "a, b = 0, 1\n",
    "while count < 5:\n",
    "    print(a)\n",
    "    a, b = b, a + b\n",
    "    count += 1"
   ]
  },
  {
   "cell_type": "markdown",
   "metadata": {},
   "source": [
    "## Exercise 5: Functions\n",
    "\n",
    "1. Write a function that takes two numbers as parameters and returns their sum.\n",
    "2. Write a function that takes a list of numbers as a parameter and returns the largest number in the list.\n",
    "3. Write a function that takes a string as a parameter and returns the number of vowels in the string."
   ]
  },
  {
   "cell_type": "code",
   "execution_count": 6,
   "metadata": {},
   "outputs": [
    {
     "name": "stdout",
     "output_type": "stream",
     "text": [
      "Sum: 30\n",
      "Largest number: 42\n",
      "Number of vowels in \"Hello World\": 3\n"
     ]
    }
   ],
   "source": [
    "# Function to add two numbers\n",
    "def add_numbers(a, b):\n",
    "    return a + b\n",
    "\n",
    "print('Sum:', add_numbers(10, 20))\n",
    "\n",
    "# Function to find the largest number in a list\n",
    "def largest_number(numbers):\n",
    "    if numbers:\n",
    "        return max(numbers)\n",
    "    return None\n",
    "\n",
    "print('Largest number:', largest_number([3, 17, 8, 42, 15]))\n",
    "\n",
    "# Function to count vowels in a string\n",
    "def count_vowels(s):\n",
    "    vowels = 'aeiouAEIOU'\n",
    "    count = 0\n",
    "    for char in s:\n",
    "        if char in vowels:\n",
    "            count += 1\n",
    "    return count\n",
    "\n",
    "print('Number of vowels in \"Hello World\":', count_vowels('Hello World'))"
   ]
  },
  {
   "cell_type": "markdown",
   "metadata": {},
   "source": [
    "## Exercise 6: Password Strength Checker\n",
    "\n",
    "Write a script that checks if a password meets the following criteria:\n",
    "- At least 8 characters long\n",
    "- Contains at least one uppercase letter\n",
    "- Contains at least one lowercase letter\n",
    "- Contains at least one special character (e.g., !, @, #, $, etc.)\n",
    "\n",
    "If the password meets all criteria, print \"Password is strong\"; otherwise, print which criteria were not met."
   ]
  },
  {
   "cell_type": "code",
   "execution_count": 7,
   "metadata": {},
   "outputs": [
    {
     "name": "stdout",
     "output_type": "stream",
     "text": [
      "Password must contain at least one special character\n"
     ]
    }
   ],
   "source": [
    "def check_password_strength(password):\n",
    "    errors = []\n",
    "    special_characters = '!@#$%^&*()-_+='\n",
    "    \n",
    "    if len(password) < 8:\n",
    "        errors.append('at least 8 characters')\n",
    "    if not any(char.isupper() for char in password):\n",
    "        errors.append('at least one uppercase letter')\n",
    "    if not any(char.islower() for char in password):\n",
    "        errors.append('at least one lowercase letter')\n",
    "    if not any(char in special_characters for char in password):\n",
    "        errors.append('at least one special character')\n",
    "    \n",
    "    if not errors:\n",
    "        print('Password is strong')\n",
    "    else:\n",
    "        print('Password must contain', ', '.join(errors))\n",
    "\n",
    "# Example usage\n",
    "password = input('Enter a password: ')\n",
    "check_password_strength(password)"
   ]
  },
  {
   "cell_type": "markdown",
   "metadata": {},
   "source": [
    "## Exercise 7: Caesar Cipher\n",
    "\n",
    "Write a script to encrypt and decrypt messages using the Caesar cipher. The cipher shifts each letter by a given key.\n",
    "\n",
    "Example:\n",
    "- Input: message = \"HELLO\", key = 3, mode = \"encrypt\" → Output: \"KHOOR\"\n",
    "- Input: message = \"KHOOR\", key = 3, mode = \"decrypt\" → Output: \"HELLO\""
   ]
  },
  {
   "cell_type": "code",
   "execution_count": 8,
   "metadata": {},
   "outputs": [
    {
     "name": "stdout",
     "output_type": "stream",
     "text": [
      "Result: huh\n"
     ]
    }
   ],
   "source": [
    "def caesar_cipher(message, key, mode='encrypt'):\n",
    "    result = ''\n",
    "    for char in message:\n",
    "        if char.isalpha():\n",
    "            base = ord('A') if char.isupper() else ord('a')\n",
    "            shift = key if mode == 'encrypt' else -key\n",
    "            result += chr((ord(char) - base + shift) % 26 + base)\n",
    "        else:\n",
    "            result += char\n",
    "    return result\n",
    "\n",
    "# Example usage\n",
    "message = input('Enter message: ')\n",
    "key = int(input('Enter key (number): '))\n",
    "mode = input('Enter mode (encrypt/decrypt): ')\n",
    "print('Result:', caesar_cipher(message, key, mode))"
   ]
  },
  {
   "cell_type": "markdown",
   "metadata": {},
   "source": [
    "## Exercise 8: Hangman Game\n",
    "\n",
    "Write a script that implements the Hangman game. The script should:\n",
    "- Randomly select a word from a list.\n",
    "- Allow the user to guess letters one at a time.\n",
    "- Keep track of correct and incorrect guesses.\n",
    "- End the game when the user guesses the word or runs out of attempts."
   ]
  },
  {
   "cell_type": "code",
   "execution_count": 9,
   "metadata": {},
   "outputs": [
    {
     "name": "stdout",
     "output_type": "stream",
     "text": [
      "Welcome to Hangman!\n",
      "\n",
      "Current word: _ _ _ _ _ _\n",
      "\n",
      "Current word: _ _ _ h _ _\n",
      "You already guessed that letter.\n",
      "\n",
      "Current word: _ _ _ h _ _\n",
      "Incorrect! Attempts remaining: 5\n",
      "\n",
      "Current word: _ _ _ h _ _\n",
      "Incorrect! Attempts remaining: 4\n",
      "\n",
      "Current word: _ _ _ h _ _\n",
      "Incorrect! Attempts remaining: 3\n",
      "\n",
      "Current word: _ _ _ h _ _\n",
      "Incorrect! Attempts remaining: 2\n",
      "\n",
      "Current word: _ _ _ h _ _\n",
      "Incorrect! Attempts remaining: 1\n",
      "\n",
      "Current word: _ _ _ h _ _\n",
      "Incorrect! Attempts remaining: 0\n",
      "\n",
      "Game Over! The word was: python\n"
     ]
    }
   ],
   "source": [
    "import random\n",
    "\n",
    "def hangman():\n",
    "    word_list = ['python', 'java', 'javascript']\n",
    "    word = random.choice(word_list)\n",
    "    guessed = ['_'] * len(word)\n",
    "    guessed_letters = set()\n",
    "    max_attempts = 6\n",
    "    attempts = 0\n",
    "    \n",
    "    print('Welcome to Hangman!')\n",
    "    while attempts < max_attempts and '_' in guessed:\n",
    "        print('\\nCurrent word: ' + ' '.join(guessed))\n",
    "        guess = input('Guess a letter: ').lower()\n",
    "\n",
    "        if guess in guessed_letters:\n",
    "            print('You already guessed that letter.')\n",
    "            continue\n",
    "\n",
    "        guessed_letters.add(guess)\n",
    "\n",
    "        if guess in word:\n",
    "            for idx, letter in enumerate(word):\n",
    "                if letter == guess:\n",
    "                    guessed[idx] = guess\n",
    "        else:\n",
    "            attempts += 1\n",
    "            print(f'Incorrect! Attempts remaining: {max_attempts - attempts}')\n",
    "\n",
    "    if '_' not in guessed:\n",
    "        print('\\nCongratulations, you guessed the word:', word, ')')\n",
    "    else:\n",
    "        print('\\nGame Over! The word was:', word)\n",
    "\n",
    "# Run the game\n",
    "hangman()"
   ]
  }
 ],
 "metadata": {
  "kernelspec": {
   "display_name": "Python 3",
   "language": "python",
   "name": "python3"
  },
  "language_info": {
   "codemirror_mode": {
    "name": "ipython",
    "version": 3
   },
   "file_extension": ".py",
   "mimetype": "text/x-python",
   "name": "python",
   "nbconvert_exporter": "python",
   "pygments_lexer": "ipython3",
   "version": "3.13.2"
  }
 },
 "nbformat": 4,
 "nbformat_minor": 2
}
